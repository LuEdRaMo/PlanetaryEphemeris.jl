{
 "cells": [
  {
   "cell_type": "markdown",
   "metadata": {},
   "source": [
    "# Solar and lunar eclipses\n",
    "## PlanetaryEphemeris.jl vs JPL DE-430 ephemeris \n",
    "\n",
    "This notebook performs a Taylor integration of a Solar System model which includes point-mass interactions between the Sun, the eight planets (Mercury through Neptune), the Moon and up to 343 main-belt asteroids. During the integration, we predict the occurrence of solar and lunar eclipses starting from September 2015 through 2020. As calculated from JPL ephemeris, the eclipses which have occurred (and will occur) between Sep 28, 2015 and Dec 11, 2020 are (times are reported in TDB time scale):\n",
    "\n",
    "|Date of eclipse | Time of eclipse (TDB)|\n",
    "|-|-|\n",
    "| 2015-09-28 | 02:48:49.613 |\n",
    "| 2016-03-09 | 01:58:53.24  |\n",
    "| 2016-03-23 | 11:49:05.451 |\n",
    "| 2016-09-01 | 09:08:42.583 |\n",
    "| 2016-09-16 | 18:56:01.53  |\n",
    "| 2017-02-11 | 00:45:40.174 |\n",
    "| 2017-02-26 | 14:55:09.431 |\n",
    "| 2017-08-07 | 18:22:17.984 |\n",
    "| 2017-08-21 | 18:27:16.654 |\n",
    "| 2018-01-31 | 13:31:34.204 |\n",
    "| 2018-02-15 | 20:53:09.777 |\n",
    "| 2018-07-13 | 03:02:47.574 |\n",
    "| 2018-07-27 | 20:23:37.001 |\n",
    "| 2018-08-11 | 09:48:02.699 |\n",
    "| 2019-01-06 | 01:43:25.107 |\n",
    "| 2019-01-21 | 05:14:00.736 |\n",
    "| 2019-07-02 | 19:24:40.137 |\n",
    "| 2019-07-16 | 21:32:35.889 |\n",
    "| 2019-12-26 | 05:19:33.286 |\n",
    "| 2020-01-10 | 19:11:47.471 |\n",
    "| 2020-06-05 | 19:26:49.197 |\n",
    "| 2020-06-21 | 06:41:53.938 |\n",
    "| 2020-07-05 | 04:31:48.643 |\n",
    "| 2020-11-30 | 09:44:44.858 |\n",
    "| 2020-12-14 | 16:15:14.724 |\n",
    "\n",
    "We transform the table below to Julian dates, in order to compare them with numerical integrations performed with `TaylorIntegration.jl` and `PlanetaryEphemeris.jl`:"
   ]
  },
  {
   "cell_type": "code",
   "execution_count": null,
   "metadata": {},
   "outputs": [],
   "source": [
    "tvS_JPL_ = [\n",
    "    2.4572936172408904e6, \n",
    "    2.457456582560654e6, \n",
    "    2.457470992424201e6, \n",
    "    2.4576328810484153e6, \n",
    "    2.4576482889066027e6, \n",
    "    2.457795531714972e6, \n",
    "    2.457811121636933e6, \n",
    "    2.457973265485929e6, \n",
    "    2.45798726894276e6, \n",
    "    2.4581500635903236e6, \n",
    "    2.45816537025205e6,\n",
    "    2.4583126269395184e6,\n",
    "    2.4583273497338057e6,\n",
    "    2.4583419083645726e6,\n",
    "    2.4584895718183713e6,\n",
    "    2.458504718064075e6,\n",
    "    2.4586673087978857e6,\n",
    "    2.4586813976376085e6,\n",
    "    2.4588437219130266e6,\n",
    "    2.458859299854985e6,\n",
    "    2.459006310291634e6,\n",
    "    2.459021779096507e6,\n",
    "    2.45903568875744e6,\n",
    "    2.45918390607475e6,\n",
    "    2.459198177253751e6,\n",
    "    ];\n",
    "\n",
    "ΔtvS_JPL = [800e-6, 870e-6, 860e-6, 930e-6, 1035e-6, \n",
    "    1000e-6, 1040e-6, 1170e-6, 1090e-6, 1190e-6, \n",
    "    1149e-6, 1159e-6, 1269e-6, 1159e-6, 1240e-6, \n",
    "    1230e-6, 1400e-6, 1309e-6, 1399e-6, 1460e-6, \n",
    "    1379e-6, 1561e-6, 1380e-6, 1590e-6, 1445e-6] # seconds\n",
    "\n",
    "tvS_JPL = tvS_JPL_ .+ ΔtvS_JPL/daysec;"
   ]
  },
  {
   "cell_type": "markdown",
   "metadata": {},
   "source": [
    "# Setup"
   ]
  },
  {
   "cell_type": "code",
   "execution_count": null,
   "metadata": {},
   "outputs": [],
   "source": [
    "versioninfo()"
   ]
  },
  {
   "cell_type": "code",
   "execution_count": null,
   "metadata": {},
   "outputs": [],
   "source": [
    "Threads.nthreads()"
   ]
  },
  {
   "cell_type": "code",
   "execution_count": null,
   "metadata": {},
   "outputs": [],
   "source": [
    ";pwd"
   ]
  },
  {
   "cell_type": "code",
   "execution_count": null,
   "metadata": {},
   "outputs": [],
   "source": [
    "] st"
   ]
  },
  {
   "cell_type": "markdown",
   "metadata": {},
   "source": [
    "Extended precision arithmetic setup"
   ]
  },
  {
   "cell_type": "code",
   "execution_count": null,
   "metadata": {
    "scrolled": true
   },
   "outputs": [],
   "source": [
    "#]add Quadmath\n",
    "#using Quadmath"
   ]
  },
  {
   "cell_type": "markdown",
   "metadata": {},
   "source": [
    "We call all relevant packages:"
   ]
  },
  {
   "cell_type": "code",
   "execution_count": null,
   "metadata": {},
   "outputs": [],
   "source": [
    "using Revise"
   ]
  },
  {
   "cell_type": "code",
   "execution_count": null,
   "metadata": {
    "scrolled": true
   },
   "outputs": [],
   "source": [
    "using PlanetaryEphemeris, TaylorIntegration\n",
    "using Dates, LinearAlgebra"
   ]
  },
  {
   "cell_type": "code",
   "execution_count": null,
   "metadata": {},
   "outputs": [],
   "source": [
    "using JLD"
   ]
  },
  {
   "cell_type": "code",
   "execution_count": null,
   "metadata": {
    "hidden": true
   },
   "outputs": [],
   "source": [
    "using SPICE"
   ]
  },
  {
   "cell_type": "code",
   "execution_count": null,
   "metadata": {
    "hidden": true
   },
   "outputs": [],
   "source": [
    "furnsh(\"/Users/Jorge/.julia/artifacts/db3e3a765712a792a7f4a73634213d53fc0561ec//de430_1850-2150.bsp\")"
   ]
  },
  {
   "cell_type": "code",
   "execution_count": null,
   "metadata": {},
   "outputs": [],
   "source": [
    "furnsh(\"/Users/Jorge/.julia/artifacts/8fa307fe9da2a63ed0cf9d681540d94a619a0995/naif0012.tls\")"
   ]
  },
  {
   "cell_type": "code",
   "execution_count": null,
   "metadata": {},
   "outputs": [],
   "source": [
    "furnsh(\"/Users/Jorge/projects/PlanetaryEphemeris/eph/ast343de430.bsp\")"
   ]
  },
  {
   "cell_type": "markdown",
   "metadata": {},
   "source": [
    "Some parameters for the Taylor integration:\n",
    "\n",
    "+ `order`: the order of expansion of the Taylor series\n",
    "+ `abs_tol`: the absolute error tolerance \n",
    "+ `t0`: the initial time (currently, initial conditions are set to Sept. 20. 2015 00:00:00.00 TDB)\n",
    "+ `tmax`: the final time of integration"
   ]
  },
  {
   "cell_type": "code",
   "execution_count": null,
   "metadata": {},
   "outputs": [],
   "source": [
    "const order = 30\n",
    "const abstol=1.0E-30\n",
    "const t0 = 0.0\n",
    "const jd0 = datetime2julian(DateTime(2015,9,20,0,0,0)) #starting time of integration\n",
    "#const jd0 = datetime2julian(DateTime(1969,6,28,0,0,0)) #starting time of integration\n",
    "const tmax = t0+5.25yr #final time of integration\n",
    "tS_JPL = (tvS_JPL .- jd0)/yr;"
   ]
  },
  {
   "cell_type": "code",
   "execution_count": null,
   "metadata": {},
   "outputs": [],
   "source": [
    "UJ_interaction[1:13,1:11]"
   ]
  },
  {
   "cell_type": "code",
   "execution_count": null,
   "metadata": {},
   "outputs": [],
   "source": [
    "# Check that Earth's and Moon's gravity fields don't\n",
    "# interact with point masses beyond Jupiter --> should evaluate to `true`\n",
    "!any(UJ_interaction[8:end,2:end]) # -> true"
   ]
  },
  {
   "cell_type": "code",
   "execution_count": null,
   "metadata": {},
   "outputs": [],
   "source": [
    "#check that no figure interacts with itself --> should evaluate to `true`\n",
    "!any(diag(UJ_interaction)) # -> true"
   ]
  },
  {
   "cell_type": "code",
   "execution_count": null,
   "metadata": {},
   "outputs": [],
   "source": [
    "# Sun's J2 interacts with planets, Moon and Pluto? --> should evaluate to `true`\n",
    "all(UJ_interaction[2:11,su])"
   ]
  },
  {
   "cell_type": "code",
   "execution_count": null,
   "metadata": {},
   "outputs": [],
   "source": [
    "# Sun's J2 interacts with any asteroid? --> should evaluate to `false`\n",
    "any(UJ_interaction[12:end,su])"
   ]
  },
  {
   "cell_type": "markdown",
   "metadata": {},
   "source": [
    "Load Taylor ephemeris for DE430 lunar libration angles"
   ]
  },
  {
   "cell_type": "code",
   "execution_count": null,
   "metadata": {},
   "outputs": [],
   "source": [
    "#eulang_de430_path = \"moon_pa_de430_2015_2020_et.jld\"\n",
    "eulang_de430_path = joinpath(dirname(pathof(PlanetaryEphemeris)), \"../eph/moon_pa_de430_2003_2036_et.jld\")"
   ]
  },
  {
   "cell_type": "code",
   "execution_count": null,
   "metadata": {},
   "outputs": [],
   "source": [
    "eulang_de430 = load(eulang_de430_path, \"eulang_de430\");"
   ]
  },
  {
   "cell_type": "code",
   "execution_count": null,
   "metadata": {},
   "outputs": [],
   "source": [
    "eulang_de430((8+jd0-J2000)*daysec+Taylor1(30))"
   ]
  },
  {
   "cell_type": "raw",
   "metadata": {},
   "source": [
    "eulang_de430_af = TaylorInterpolant(\n",
    "    Float128(eulang_de430.t0), \n",
    "    Float128.(eulang_de430.t), \n",
    "    map(x->Taylor1(Float128.(x.coeffs)), eulang_de430.x)\n",
    ");"
   ]
  },
  {
   "cell_type": "raw",
   "metadata": {},
   "source": [
    "eulang_de430_af(eulang_de430_af.t0+eulang_de430_af.t[1]+Taylor1(Float128,30))"
   ]
  },
  {
   "cell_type": "markdown",
   "metadata": {},
   "source": [
    "## Initial conditions"
   ]
  },
  {
   "cell_type": "code",
   "execution_count": null,
   "metadata": {},
   "outputs": [],
   "source": [
    "const solar_system_majorbodies_ids = [10,199,299,399,301,4,5,6,7,8,9];"
   ]
  },
  {
   "cell_type": "code",
   "execution_count": null,
   "metadata": {},
   "outputs": [],
   "source": [
    "# NAIF IDs of 343 asteroid list included in DE430/431 model(without the 2000--- prefix)\n",
    "@show length(de430_343ast_ids)\n",
    "@show unique(de430_343ast_ids) == de430_343ast_ids\n",
    "# include only the first 16 asteroids\n",
    "de430_343ast_50_ids = parse.(Int, \"2\".*lpad.(de430_343ast_ids[1:16], 6, '0'))\n",
    "\n",
    "ss_all_bodies_ids = union(solar_system_majorbodies_ids, de430_343ast_50_ids)\n",
    "#const ss_all_bodies_ids = solar_system_majorbodies_ids # no asteroids"
   ]
  },
  {
   "cell_type": "code",
   "execution_count": null,
   "metadata": {},
   "outputs": [],
   "source": [
    "typeof(ss_all_bodies_ids)"
   ]
  },
  {
   "cell_type": "markdown",
   "metadata": {},
   "source": [
    "We define an array, `q0`, which will store the initial conditions for the Solar System, and will be passed as an argument for the Taylor integrator:"
   ]
  },
  {
   "cell_type": "code",
   "execution_count": null,
   "metadata": {},
   "outputs": [],
   "source": [
    "const N = length(ss_all_bodies_ids)\n",
    "q0_ = Vector{Float64}(undef, 6N) #initial condition array\n",
    "@show N, length(q0_)"
   ]
  },
  {
   "cell_type": "markdown",
   "metadata": {
    "heading_collapsed": true
   },
   "source": [
    "Read initial conditions from DE430 binary SPK"
   ]
  },
  {
   "cell_type": "code",
   "execution_count": null,
   "metadata": {
    "hidden": true
   },
   "outputs": [],
   "source": [
    "#et_ = str2et(\"1969-6-28 00:00:00 TDB\")\n",
    "et_ = str2et(\"2015-9-20 00:00:00 TDB\")\n",
    "#et_ = str2et(\"2008-9-24 00:00:00 TDB\")"
   ]
  },
  {
   "cell_type": "code",
   "execution_count": null,
   "metadata": {
    "hidden": true
   },
   "outputs": [],
   "source": [
    "pv = spkgeo(ss_all_bodies_ids[6], et_, \"J2000\", 0)[1]; pv /= au; pv[4:6] *= 86400; pv"
   ]
  },
  {
   "cell_type": "code",
   "execution_count": null,
   "metadata": {},
   "outputs": [],
   "source": [
    "#?spkgeo"
   ]
  },
  {
   "cell_type": "code",
   "execution_count": null,
   "metadata": {
    "hidden": true
   },
   "outputs": [],
   "source": [
    "for i in 1:N\n",
    "    pv = spkgeo(ss_all_bodies_ids[i], et_, \"J2000\", 0)[1]\n",
    "    pv /= au\n",
    "    pv[4:6] *= 86400\n",
    "    q0_[union(3i-2:3i,3(N+i)-2:3(N+i))] = pv\n",
    "end"
   ]
  },
  {
   "cell_type": "code",
   "execution_count": null,
   "metadata": {
    "hidden": true
   },
   "outputs": [],
   "source": [
    "ind=N; q0_[union(3ind-2:3ind,3(N+ind)-2:3(N+ind))]"
   ]
  },
  {
   "cell_type": "code",
   "execution_count": null,
   "metadata": {
    "hidden": true
   },
   "outputs": [],
   "source": [
    "ind=4; q0_[union(3ind-2:3ind,3(N+ind)-2:3(N+ind))]"
   ]
  },
  {
   "cell_type": "code",
   "execution_count": null,
   "metadata": {},
   "outputs": [],
   "source": [
    "norm(q0_[union(3ind-2:3ind,3(N+ind)-2:3(N+ind))][1:3]), norm(q0_[union(3ind-2:3ind,3(N+ind)-2:3(N+ind))][4:6])*au/86400"
   ]
  },
  {
   "cell_type": "code",
   "execution_count": null,
   "metadata": {},
   "outputs": [],
   "source": [
    "#check that no element of q0_ was left uninitialized\n",
    "iav = Vector{Bool}(undef, length(q0_))\n",
    "for i in eachindex(q0_)\n",
    "    iav = isassigned(q0_, i)\n",
    "end\n",
    "@show all(iav);"
   ]
  },
  {
   "cell_type": "code",
   "execution_count": null,
   "metadata": {},
   "outputs": [],
   "source": [
    "#check that there are no NANs\n",
    "q0_ == q0_"
   ]
  },
  {
   "cell_type": "markdown",
   "metadata": {},
   "source": [
    "Construct `q0` as a vector of `Quadmath.Float128`s (DE430/431 ephemerides are integrated using quadruple precision)"
   ]
  },
  {
   "cell_type": "code",
   "execution_count": null,
   "metadata": {},
   "outputs": [],
   "source": [
    "q0 = q0_;\n",
    "#q0 = Float128.(q0_);"
   ]
  },
  {
   "cell_type": "code",
   "execution_count": null,
   "metadata": {},
   "outputs": [],
   "source": [
    "# diff eqs parameters\n",
    "S = eltype(q0)\n",
    "#N, S, eulang_de430\n",
    "if eltype(q0) == Float64\n",
    "    params = (N, S, eulang_de430, jd0)\n",
    "elseif eltype(q0) == Float128\n",
    "    params = (N, S, eulang_de430_af, jd0)\n",
    "end\n",
    "params_ = (N, eltype(q0_), eulang_de430, jd0)\n",
    ";"
   ]
  },
  {
   "cell_type": "code",
   "execution_count": null,
   "metadata": {},
   "outputs": [],
   "source": [
    "eltype(q0)"
   ]
  },
  {
   "cell_type": "code",
   "execution_count": null,
   "metadata": {},
   "outputs": [],
   "source": [
    "typeof(q0), length(q0), 6N, length(q0) == 6N"
   ]
  },
  {
   "cell_type": "markdown",
   "metadata": {},
   "source": [
    "## Equations of motion\n",
    "\n",
    "Dynamical model includes:\n",
    "\n",
    "- Sun, 8 planets, Moon, Pluto and main-belt 343 asteroids\n",
    "- Post-newtonian accelerations between all bodies\n",
    "- Accelerations due to Earth's $J_2\\ldots J_5$ with Sun and planets Mercury through Jupiter; and reaction accelerations\n",
    "- Accelerations due to the Moon's gravity field up to 6th order (zonal and tesseral harmonics) upon Sun and planets Mercury through Jupiter; and reaction accelerations\n",
    "- Sun's $J_2$ interaction with planets, Moon and Pluto; and reaction accelerations\n",
    "- IAU 1976/1980 Earth's pole precession and nutation (nutation only includes 18.6 yr term of IAU nutation series)\n",
    "- Tidal acceleration of Moon due to tides raised on Earth by Moon and Sun (long-period, diurnal, semi-diurnal)"
   ]
  },
  {
   "cell_type": "markdown",
   "metadata": {},
   "source": [
    "Below, we write down the equations of motion for the post-Newtonian $N$-body problem. Note that this is this system of equations is coupled for the accelerations $\\dot{\\vec v_j}$, and we solve it using succesive approximations, with the Newtonian accelerations as an initial ansatz. Typically, for 64-bit precision, only 1 iteration is enough for convergence. Anyway, the post-Newtonian N-body accelerations are accurate to order $1/c^2$, so using the Newtonian accelerations in the coupled terms should be accurate to the same order (Folkner et al., 2014)"
   ]
  },
  {
   "cell_type": "markdown",
   "metadata": {},
   "source": [
    "The optimal number of iterations for the succesive approximations of the post-Newtonian accelerations, starting from a Newtonian ansatz, is 1. With 2 or more iterations, there are no further corrections using `Float64`."
   ]
  },
  {
   "cell_type": "code",
   "execution_count": null,
   "metadata": {},
   "outputs": [],
   "source": [
    "#WARNING!!! this is the multi-threaded version!! (i.e., uses @threads!!!!)\n",
    "@taylorize function DE430_dev!(dq, q, params, t)\n",
    "    # N: number of bodies\n",
    "    # S: auxiliary variable =eltype(q0)\n",
    "    # eulang_de430_: Taylor interpolant for DE430 lunar orientation Euler angles\n",
    "    local N, S, eulang_de430_, jd0 = params\n",
    "    local N_ext = 11 # number of bodies in extended-body accelerations\n",
    "    local N_back = 11 # number of bodies in backward integration\n",
    "    local params_back = (N_back, S, eulang_de430_, jd0)\n",
    "    local qq_ = Taylor1.(constant_term.(q[union(1:3N_back, 3N+1:3N+3N_back)]), t.order)\n",
    "    local dqq_ = similar(qq_)\n",
    "    #local xaux_ = similar(qq_)\n",
    "    #local jtcffs = TaylorIntegration.jetcoeffs!(NBP_pN_A_J23E_J23M_J2S_threads!, t, qq_, dqq_, xaux_, params_back)\n",
    "    local jtcffs = TaylorIntegration.jetcoeffs!(Val(NBP_pN_A_J23E_J23M_J2S_threads!), t, qq_, dqq_, params_back)\n",
    "    local __t = Taylor1(t.order)\n",
    "    local q_del_τ_M = qq_(__t-τ_M)\n",
    "    local q_del_τ_0 = qq_(__t-τ_0p)\n",
    "    local q_del_τ_1 = qq_(__t-τ_1p)\n",
    "    local q_del_τ_2 = qq_(__t-τ_2p)\n",
    "\n",
    "    local eulang_t = eulang_de430_( (t+(jd0-J2000))*daysec )\n",
    "    local eulang_t_del = eulang_de430_( ((t-τ_M)+(jd0-J2000))*daysec )\n",
    "\n",
    "    #TODO: handle appropiately @taylorize'd version with postnewton_iter>1\n",
    "    local postnewton_iter = 1 # number of iterations of post-Newtonian subroutine\n",
    "\n",
    "    # parameters related to speed of light, c\n",
    "    local c_p2 = 29979.063823897606 # c^2 = 29979.063823897606 au^2/d^2\n",
    "    local c_m2 = 3.3356611996764786e-5 # c^-2 = 3.3356611996764786e-5 d^2/au^2\n",
    "\n",
    "    local zero_q_1 = zero(q[1])\n",
    "    local one_t = one(t)\n",
    "\n",
    "    X = Array{Taylor1{S}}(undef, N, N)\n",
    "    Y = Array{Taylor1{S}}(undef, N, N)\n",
    "    Z = Array{Taylor1{S}}(undef, N, N)\n",
    "\n",
    "    r_p2 = Array{Taylor1{S}}(undef, N, N)\n",
    "    r_p3d2 = Array{Taylor1{S}}(undef, N, N)\n",
    "    r_p7d2 = Array{Taylor1{S}}(undef, N, N)\n",
    "\n",
    "    #Newtonian accelerations\n",
    "    newtonX = Array{Taylor1{S}}(undef, N)\n",
    "    newtonY = Array{Taylor1{S}}(undef, N)\n",
    "    newtonZ = Array{Taylor1{S}}(undef, N)\n",
    "\n",
    "    newtonianCoeff = Array{Taylor1{S}}(undef, N, N)\n",
    "\n",
    "    #post-Newtonian stuff\n",
    "    U = Array{Taylor1{S}}(undef, N, N)\n",
    "    V = Array{Taylor1{S}}(undef, N, N)\n",
    "    W = Array{Taylor1{S}}(undef, N, N)\n",
    "\n",
    "    _4U_m_3X = Array{Taylor1{S}}(undef, N, N)\n",
    "    _4V_m_3Y = Array{Taylor1{S}}(undef, N, N)\n",
    "    _4W_m_3Z = Array{Taylor1{S}}(undef, N, N)\n",
    "\n",
    "    UU = Array{Taylor1{S}}(undef, N, N)\n",
    "    VV = Array{Taylor1{S}}(undef, N, N)\n",
    "    WW = Array{Taylor1{S}}(undef, N, N)\n",
    "\n",
    "    r_p1d2 = Array{Taylor1{S}}(undef, N, N)\n",
    "\n",
    "    newtonianNb_Potential = Array{Taylor1{S}}(undef, N)\n",
    "    newtonian1b_Potential = Array{Taylor1{S}}(undef, N, N)\n",
    "    newtonianCoeff = Array{Taylor1{S}}(undef, N, N)\n",
    "    newton_acc_X = Array{Taylor1{S}}(undef, N, N)\n",
    "    newton_acc_Y = Array{Taylor1{S}}(undef, N, N)\n",
    "    newton_acc_Z = Array{Taylor1{S}}(undef, N, N)\n",
    "\n",
    "    v2 = Array{Taylor1{S}}(undef, N)\n",
    "    vi_dot_vj = Array{Taylor1{S}}(undef, N, N)\n",
    "    pn2 = Array{Taylor1{S}}(undef, N, N)\n",
    "    pn3 = Array{Taylor1{S}}(undef, N, N)\n",
    "    _4ϕj = Array{Taylor1{S}}(undef, N, N)\n",
    "    ϕi_plus_4ϕj = Array{Taylor1{S}}(undef, N, N)\n",
    "    sj2_plus_2si2_minus_4vivj = Array{Taylor1{S}}(undef, N, N)\n",
    "    ϕs_and_vs = Array{Taylor1{S}}(undef, N, N)\n",
    "    U_t_pn2 = Array{Taylor1{S}}(undef, N, N)\n",
    "    V_t_pn2 = Array{Taylor1{S}}(undef, N, N)\n",
    "    W_t_pn2 = Array{Taylor1{S}}(undef, N, N)\n",
    "    pn1t1_7 = Array{Taylor1{S}}(undef, N, N)\n",
    "\n",
    "    pntempX = Array{Taylor1{S}}(undef, N, postnewton_iter)\n",
    "    pntempY = Array{Taylor1{S}}(undef, N, postnewton_iter)\n",
    "    pntempZ = Array{Taylor1{S}}(undef, N, postnewton_iter)\n",
    "    pn1 = Array{Taylor1{S}}(undef, N, N, postnewton_iter)\n",
    "    X_t_pn1 = Array{Taylor1{S}}(undef, N, N, postnewton_iter)\n",
    "    Y_t_pn1 = Array{Taylor1{S}}(undef, N, N, postnewton_iter)\n",
    "    Z_t_pn1 = Array{Taylor1{S}}(undef, N, N, postnewton_iter)\n",
    "    pNX_t_pn3 = Array{Taylor1{S}}(undef, N, N, postnewton_iter)\n",
    "    pNY_t_pn3 = Array{Taylor1{S}}(undef, N, N, postnewton_iter)\n",
    "    pNZ_t_pn3 = Array{Taylor1{S}}(undef, N, N, postnewton_iter)\n",
    "    pNX_t_X = Array{Taylor1{S}}(undef, N, N, postnewton_iter)\n",
    "    pNY_t_Y = Array{Taylor1{S}}(undef, N, N, postnewton_iter)\n",
    "    pNZ_t_Z = Array{Taylor1{S}}(undef, N, N, postnewton_iter)\n",
    "    postNewtonX = Array{Taylor1{S}}(undef, N, postnewton_iter+1)\n",
    "    postNewtonY = Array{Taylor1{S}}(undef, N, postnewton_iter+1)\n",
    "    postNewtonZ = Array{Taylor1{S}}(undef, N, postnewton_iter+1)\n",
    "\n",
    "    # (Jn, Cmn, Smn) acceleration auxiliaries\n",
    "    X_bf_1 = Array{Taylor1{S}}(undef, N_ext, N_ext)\n",
    "    Y_bf_1 = Array{Taylor1{S}}(undef, N_ext, N_ext)\n",
    "    Z_bf_1 = Array{Taylor1{S}}(undef, N_ext, N_ext)\n",
    "    X_bf_2 = Array{Taylor1{S}}(undef, N_ext, N_ext)\n",
    "    Y_bf_2 = Array{Taylor1{S}}(undef, N_ext, N_ext)\n",
    "    Z_bf_2 = Array{Taylor1{S}}(undef, N_ext, N_ext)\n",
    "    X_bf_3 = Array{Taylor1{S}}(undef, N_ext, N_ext)\n",
    "    Y_bf_3 = Array{Taylor1{S}}(undef, N_ext, N_ext)\n",
    "    Z_bf_3 = Array{Taylor1{S}}(undef, N_ext, N_ext)\n",
    "    X_bf = Array{Taylor1{S}}(undef, N_ext, N_ext)\n",
    "    Y_bf = Array{Taylor1{S}}(undef, N_ext, N_ext)\n",
    "    Z_bf = Array{Taylor1{S}}(undef, N_ext, N_ext)\n",
    "    F_JCS_x = Array{Taylor1{S}}(undef, N_ext, N_ext)\n",
    "    F_JCS_y = Array{Taylor1{S}}(undef, N_ext, N_ext)\n",
    "    F_JCS_z = Array{Taylor1{S}}(undef, N_ext, N_ext)\n",
    "    temp_accX_j = Array{Taylor1{S}}(undef, N_ext, N_ext)\n",
    "    temp_accY_j = Array{Taylor1{S}}(undef, N_ext, N_ext)\n",
    "    temp_accZ_j = Array{Taylor1{S}}(undef, N_ext, N_ext)\n",
    "    temp_accX_i = Array{Taylor1{S}}(undef, N_ext, N_ext)\n",
    "    temp_accY_i = Array{Taylor1{S}}(undef, N_ext, N_ext)\n",
    "    temp_accZ_i = Array{Taylor1{S}}(undef, N_ext, N_ext)\n",
    "    sin_ϕ = Array{Taylor1{S}}(undef, N_ext, N_ext)\n",
    "    cos_ϕ = Array{Taylor1{S}}(undef, N_ext, N_ext)\n",
    "    sin_λ = Array{Taylor1{S}}(undef, N_ext, N_ext)\n",
    "    cos_λ = Array{Taylor1{S}}(undef, N_ext, N_ext)\n",
    "    r_xy = Array{Taylor1{S}}(undef, N_ext, N_ext)\n",
    "    r_p4 = Array{Taylor1{S}}(undef, N_ext, N_ext)\n",
    "    P_n = Array{Taylor1{S}}(undef, N_ext, N_ext, maximum(n1SEM)+1)\n",
    "    dP_n = Array{Taylor1{S}}(undef, N_ext, N_ext, maximum(n1SEM)+1)\n",
    "    temp_fjξ = Array{Taylor1{S}}(undef, N_ext, N_ext, maximum(n1SEM)+1)\n",
    "    temp_fjζ = Array{Taylor1{S}}(undef, N_ext, N_ext, maximum(n1SEM)+1)\n",
    "    temp_rn = Array{Taylor1{S}}(undef, N_ext, N_ext, maximum(n1SEM)+1)\n",
    "    F_CS_ξ_36 = Array{Taylor1{S}}(undef, N_ext, N_ext)\n",
    "    F_CS_η_36 = Array{Taylor1{S}}(undef, N_ext, N_ext)\n",
    "    F_CS_ζ_36 = Array{Taylor1{S}}(undef, N_ext, N_ext)\n",
    "    F_J_ξ_36 = Array{Taylor1{S}}(undef, N_ext, N_ext)\n",
    "    F_J_ζ_36 = Array{Taylor1{S}}(undef, N_ext, N_ext)\n",
    "    sin_mλ = Array{Taylor1{S}}(undef, N_ext, N_ext, n1SEM[mo])\n",
    "    cos_mλ = Array{Taylor1{S}}(undef, N_ext, N_ext, n1SEM[mo])\n",
    "    secϕ_P_nm = Array{Taylor1{S}}(undef, N_ext, N_ext, n1SEM[mo]+1, n1SEM[mo]+1)\n",
    "    P_nm = Array{Taylor1{S}}(undef, N_ext, N_ext, n1SEM[mo]+1, n1SEM[mo]+1)\n",
    "    cosϕ_dP_nm = Array{Taylor1{S}}(undef, N_ext, N_ext, n1SEM[mo]+1, n1SEM[mo]+1)\n",
    "    F_J_ξ = Array{Taylor1{S}}(undef, N_ext, N_ext)\n",
    "    F_J_η = Array{Taylor1{S}}(undef, N_ext, N_ext)\n",
    "    F_J_ζ = Array{Taylor1{S}}(undef, N_ext, N_ext)\n",
    "    F_CS_ξ = Array{Taylor1{S}}(undef, N_ext, N_ext)\n",
    "    F_CS_η = Array{Taylor1{S}}(undef, N_ext, N_ext)\n",
    "    F_CS_ζ = Array{Taylor1{S}}(undef, N_ext, N_ext)\n",
    "    F_JCS_ξ = Array{Taylor1{S}}(undef, N_ext, N_ext)\n",
    "    F_JCS_η = Array{Taylor1{S}}(undef, N_ext, N_ext)\n",
    "    F_JCS_ζ = Array{Taylor1{S}}(undef, N_ext, N_ext)\n",
    "    Rb2p = Array{Taylor1{S}}(undef, N_ext, N_ext, 3, 3) #R matrix body-fixed to \"primed\" ξηζ frame (Moyer, 1971, eq. 161)\n",
    "    Gc2p = Array{Taylor1{S}}(undef, N_ext, N_ext, 3, 3) #G matrix \"space-fixed\" to \"primed\" ξηζ frame (Moyer, 1971, eq. 163)\n",
    "\n",
    "    # extended-body accelerations\n",
    "    accX = Array{Taylor1{S}}(undef, N_ext)\n",
    "    accY = Array{Taylor1{S}}(undef, N_ext)\n",
    "    accZ = Array{Taylor1{S}}(undef, N_ext)\n",
    "\n",
    "    # tidal accelerations\n",
    "    r_star_M_0 = Array{Taylor1{S}}(undef, 3)\n",
    "    r_star_S_0 = Array{Taylor1{S}}(undef, 3)\n",
    "    r_star_M_1 = Array{Taylor1{S}}(undef, 3)\n",
    "    r_star_S_1 = Array{Taylor1{S}}(undef, 3)\n",
    "    r_star_M_2 = Array{Taylor1{S}}(undef, 3)\n",
    "    r_star_S_2 = Array{Taylor1{S}}(undef, 3)\n",
    "\n",
    "    # rotations to and from Earth, Sun and Moon pole-oriented frames\n",
    "    local dsj2k = t+(jd0-2.451545e6) # J2000.0 = 2.451545e6\n",
    "    local αs = deg2rad(α_p_sun*one_t)\n",
    "    local δs = deg2rad(δ_p_sun*one_t)\n",
    "    local αm = eulang_t[1] - (pi/2)\n",
    "    local δm = (pi/2) - eulang_t[2]\n",
    "    local Wm = eulang_t[3]\n",
    "    local M_ = Array{Taylor1{S}}(undef, 3, 3, 5)\n",
    "    local M_[:,:,ea] = c2t_jpl_de430(dsj2k)\n",
    "    local M_[:,:,su] = pole_rotation(αs, δs)\n",
    "    local M_[:,:,mo] = pole_rotation(αm, δm, Wm)\n",
    "    local M_del_mo = pole_rotation(eulang_t_del[1] - (pi/2), (pi/2) - eulang_t_del[2], eulang_t_del[3])\n",
    "    ITM_t = Array{Taylor1{S}}(undef, 3, 3)\n",
    "    ITM2_t = Array{Taylor1{S}}(undef, 3, 3)\n",
    "    local ITM2_t = ITM_und.*one_t + ITM2(eulang_t_del[1], eulang_t_del[2], eulang_t_del[3])\n",
    "    local fact_num = -4.5257273867882326e-36 # == -k_2M*μ[ea]*(R_moon^5)\n",
    "    local fact1_jsem = [(2n-1)/n for n in 1:maximum(n1SEM)]\n",
    "    local fact2_jsem = [(n-1)/n for n in 1:maximum(n1SEM)]\n",
    "    local fact3_jsem = [n for n in 1:maximum(n1SEM)]\n",
    "    local fact4_jsem = [n+1 for n in 1:maximum(n1SEM)]\n",
    "    local fact5_jsem = [(n+2) for n in 1:maximum(n1SEM)]\n",
    "    local lnm1 = [(2n-1)/(n-m) for n in 1:6, m in 1:6]\n",
    "    local lnm2 = [-(n+m-1)/(n-m) for n in 1:6, m in 1:6]\n",
    "    local lnm3 = [-n for n in 1:6]\n",
    "    local lnm4 = [n+m for n in 1:6, m in 1:6]\n",
    "    local lnm5 = [2n-1 for n in 1:6]\n",
    "    local lnm6 = [-(n+1) for n in 1:6]\n",
    "    local lnm7 = [m for m in 1:6]\n",
    "    # TODO: solve differences between parsed and non-parsed\n",
    "    local RE_au = (RE/au)\n",
    "    local J2E_t = (J2E + J2EDOT*(dsj2k/yr))*(RE_au^2)\n",
    "    local J2S_t = JSEM[su,2]*one_t\n",
    "    local J2_t = Array{Taylor1{S}}(undef, 5)\n",
    "    J2_t[su] = J2S_t\n",
    "    J2_t[ea] = J2E_t\n",
    "    # Moon tidal acc: geocentric space-fixed -> rotational time-delay -> geocentric Earth true-equator-of-date frame\n",
    "    local R30 = c2t_jpl_de430(dsj2k-τ_0p) #M_[:,:,ea] # #Rz(-ω_E*τ_0) == Id(3x3), since τ_0=0\n",
    "    local R31 = Rz(-ω_E*τ_1)*c2t_jpl_de430(dsj2k-τ_1p) # *R30\n",
    "    local R32 = Rz(-ω_E*τ_2)*c2t_jpl_de430(dsj2k-τ_2p) # *R30\n",
    "    local tid_num_coeff = 1.5*(EMRAT + 1)/EMRAT\n",
    "\n",
    "    Threads.@threads for j in 1:N\n",
    "        newtonX[j] = zero_q_1\n",
    "        newtonY[j] = zero_q_1\n",
    "        newtonZ[j] = zero_q_1\n",
    "\n",
    "        newtonianNb_Potential[j] = zero_q_1\n",
    "        \n",
    "        dq[3j-2] = q[3(N+j)-2]\n",
    "        dq[3j-1] = q[3(N+j)-1]\n",
    "        dq[3j  ] = q[3(N+j)  ]\n",
    "    end\n",
    "    \n",
    "    Threads.@threads for j in 1:N_ext\n",
    "        accX[j] = zero_q_1\n",
    "        accY[j] = zero_q_1\n",
    "        accZ[j] = zero_q_1\n",
    "    end\n",
    "    \n",
    "    #compute point-mass Newtonian accelerations, all bodies\n",
    "    Threads.@threads for j in 1:N\n",
    "        for i in 1:N\n",
    "            # i == j && continue\n",
    "            if i == j\n",
    "                continue\n",
    "            else\n",
    "                X[i,j] = q[3i-2]-q[3j-2]\n",
    "                Y[i,j] = q[3i-1]-q[3j-1]\n",
    "                Z[i,j] = q[3i]-q[3j]\n",
    "\n",
    "                U[i,j] = dq[3i-2]-dq[3j-2]\n",
    "                V[i,j] = dq[3i-1]-dq[3j-1]\n",
    "                W[i,j] = dq[3i  ]-dq[3j  ]\n",
    "\n",
    "                _4U_m_3X[i,j] = (4dq[3j-2])-(3dq[3i-2])\n",
    "                _4V_m_3Y[i,j] = (4dq[3j-1])-(3dq[3i-1])\n",
    "                _4W_m_3Z[i,j] = (4dq[3j  ])-(3dq[3i  ])\n",
    "\n",
    "                pn2x = X[i,j]*_4U_m_3X[i,j]\n",
    "                pn2y = Y[i,j]*_4V_m_3Y[i,j]\n",
    "                pn2z = Z[i,j]*_4W_m_3Z[i,j]\n",
    "\n",
    "                UU[i,j] = dq[3i-2]*dq[3j-2]\n",
    "                VV[i,j] = dq[3i-1]*dq[3j-1]\n",
    "                WW[i,j] = dq[3i  ]*dq[3j  ]\n",
    "\n",
    "                vi_dot_vj[i,j] = ( UU[i,j]+VV[i,j] ) + WW[i,j]\n",
    "\n",
    "                r_p2[i,j] = ( (X[i,j]^2)+(Y[i,j]^2) ) + (Z[i,j]^2)\n",
    "\n",
    "                r_p1d2[i,j] = sqrt(r_p2[i,j])\n",
    "                r_p3d2[i,j] = r_p2[i,j]^1.5\n",
    "                r_p7d2[i,j] = r_p2[i,j]^3.5\n",
    "\n",
    "                newtonianCoeff[i,j] =  μ[i]/r_p3d2[i,j]\n",
    "\n",
    "                pn2[i,j] = newtonianCoeff[i,j]*(( pn2x+pn2y ) + pn2z)\n",
    "\n",
    "                newton_acc_X[i,j] = X[i,j]*newtonianCoeff[i,j]\n",
    "                newton_acc_Y[i,j] = Y[i,j]*newtonianCoeff[i,j]\n",
    "                newton_acc_Z[i,j] = Z[i,j]*newtonianCoeff[i,j]\n",
    "\n",
    "                newtonian1b_Potential[i,j] = μ[i]/r_p1d2[i, j]\n",
    "                pn3[i,j] = 3.5newtonian1b_Potential[i,j]\n",
    "                U_t_pn2[i,j] = pn2[i,j]*U[i,j]\n",
    "                V_t_pn2[i,j] = pn2[i,j]*V[i,j]\n",
    "                W_t_pn2[i,j] = pn2[i,j]*W[i,j]\n",
    "\n",
    "                temp_001 = newtonX[j] + (X[i,j]*newtonianCoeff[i,j])\n",
    "                newtonX[j] = temp_001\n",
    "                temp_002 = newtonY[j] + (Y[i,j]*newtonianCoeff[i,j])\n",
    "                newtonY[j] = temp_002\n",
    "                temp_003 = newtonZ[j] + (Z[i,j]*newtonianCoeff[i,j])\n",
    "                newtonZ[j] = temp_003\n",
    "                temp_004 = newtonianNb_Potential[j] + newtonian1b_Potential[i, j]\n",
    "                newtonianNb_Potential[j] = temp_004\n",
    "            end # else (i != j)\n",
    "        end #for, i\n",
    "        v2[j] = ( (dq[3j-2]^2)+(dq[3j-1]^2) ) + (dq[3j]^2)\n",
    "    end #for, j\n",
    "\n",
    "    # transform delayed geocentric position of Moon (space-fixed->lunar mantle frame)\n",
    "    X_me_del_τ_M = q_del_τ_M[3mo-2] - q_del_τ_M[3ea-2]\n",
    "    Y_me_del_τ_M = q_del_τ_M[3mo-1] - q_del_τ_M[3ea-1]\n",
    "    Z_me_del_τ_M = q_del_τ_M[3mo  ] - q_del_τ_M[3ea  ]\n",
    "    xmed = ((M_del_mo[1,1]*X_me_del_τ_M)+(M_del_mo[1,2]*Y_me_del_τ_M)) + (M_del_mo[1,3]*Z_me_del_τ_M)\n",
    "    ymed = ((M_del_mo[2,1]*X_me_del_τ_M)+(M_del_mo[2,2]*Y_me_del_τ_M)) + (M_del_mo[2,3]*Z_me_del_τ_M)\n",
    "    zmed = ((M_del_mo[3,1]*X_me_del_τ_M)+(M_del_mo[3,2]*Y_me_del_τ_M)) + (M_del_mo[3,3]*Z_me_del_τ_M)\n",
    "    # compute matrix elements of lunar moment of inertia (Folkner et al. 2014, eq. 41)\n",
    "    rmed2 = ((xmed^2)+(ymed^2))+(zmed^2)\n",
    "    factmed = fact_num/(rmed2^2.5)\n",
    "    ITM_t[1,1] = ITM2_t[1,1] + ( factmed*((xmed^2)-(rmed2/3)) )\n",
    "    ITM_t[2,2] = ITM2_t[2,2] + ( factmed*((ymed^2)-(rmed2/3)) )\n",
    "    ITM_t[3,3] = ITM2_t[3,3] + ( factmed*((zmed^2)-(rmed2/3)) )\n",
    "    ITM_t[1,2] = ITM2_t[1,2] + (factmed*(xmed*ymed))\n",
    "    ITM_t[2,1] = ITM_t[1,2]\n",
    "    ITM_t[1,3] = ITM2_t[1,3] + (factmed*(xmed*zmed))\n",
    "    ITM_t[3,1] = ITM_t[1,3]\n",
    "    ITM_t[2,3] = ITM2_t[2,3] + (factmed*(ymed*zmed))\n",
    "    ITM_t[3,2] = ITM_t[2,3]\n",
    "    J2M_t = ( ITM_t[3,3] - ((ITM_t[1,1]+ITM_t[2,2])/2) )/(μ[mo]) # J_{2,M}*R_M^2\n",
    "    C22M_t = ((ITM_t[2,2] - ITM_t[1,1])/(μ[mo]))/4 # C_{22,M}*R_M^2\n",
    "    C21M_t = (-ITM_t[1,3])/(μ[mo]) # C_{21,M}*R_M^2\n",
    "    S21M_t = (-ITM_t[3,2])/(μ[mo]) # S_{21,M}*R_M^2\n",
    "    S22M_t = ((-ITM_t[2,1])/(μ[mo]))/2 # S_{22,M}*R_M^2\n",
    "    J2_t[mo] = J2M_t\n",
    "\n",
    "    Threads.@threads for j in 1:N_ext\n",
    "        for i in 1:N_ext\n",
    "            # i == j && continue\n",
    "            if i == j\n",
    "                continue\n",
    "            else\n",
    "                #Jn, Cnm, Snm accelerations, if j-th body is flattened\n",
    "                if UJ_interaction[i,j]\n",
    "                    # rotate from inertial frame to extended-body frame\n",
    "                    X_bf_1[i,j] = X[i,j]*M_[1,1,j]\n",
    "                    X_bf_2[i,j] = Y[i,j]*M_[1,2,j]\n",
    "                    X_bf_3[i,j] = Z[i,j]*M_[1,3,j]\n",
    "                    Y_bf_1[i,j] = X[i,j]*M_[2,1,j]\n",
    "                    Y_bf_2[i,j] = Y[i,j]*M_[2,2,j]\n",
    "                    Y_bf_3[i,j] = Z[i,j]*M_[2,3,j]\n",
    "                    Z_bf_1[i,j] = X[i,j]*M_[3,1,j]\n",
    "                    Z_bf_2[i,j] = Y[i,j]*M_[3,2,j]\n",
    "                    Z_bf_3[i,j] = Z[i,j]*M_[3,3,j]\n",
    "                    X_bf[i,j] = (X_bf_1[i,j] + X_bf_2[i,j]) + (X_bf_3[i,j]) # x-coordinate in body-fixed frame\n",
    "                    Y_bf[i,j] = (Y_bf_1[i,j] + Y_bf_2[i,j]) + (Y_bf_3[i,j]) # y-coordinate in body-fixed frame\n",
    "                    Z_bf[i,j] = (Z_bf_1[i,j] + Z_bf_2[i,j]) + (Z_bf_3[i,j]) # z-coordinate in body-fixed frame\n",
    "\n",
    "                    # compute cartesian coordinates of acceleration due to body figure in body frame\n",
    "                    sin_ϕ[i,j] = Z_bf[i,j]/r_p1d2[i,j] # Moyer (1971), eq. (165)\n",
    "                    r_xy[i,j] = sqrt( (X_bf[i,j]^2)+(Y_bf[i,j]^2) )\n",
    "                    cos_ϕ[i,j] = r_xy[i,j]/r_p1d2[i,j] # Moyer (1971), eq. (166)\n",
    "                    sin_λ[i,j] = Y_bf[i,j]/r_xy[i,j] # Moyer (1971), eq. (167)\n",
    "                    cos_λ[i,j] = X_bf[i,j]/r_xy[i,j] # Moyer (1971), eq. (168)\n",
    "\n",
    "                    # compute accelerations due to zonal harmonics J_{n}\n",
    "                    P_n[i,j,1] = one_t\n",
    "                    P_n[i,j,2] = sin_ϕ[i,j]\n",
    "                    dP_n[i,j,1] = zero_q_1\n",
    "                    dP_n[i,j,2] = one_t\n",
    "                    for n in 2:n1SEM[j] #min(3,n1SEM[j])\n",
    "                        P_n[i,j,n+1] = ((P_n[i,j,n]*sin_ϕ[i,j])*fact1_jsem[n]) - (P_n[i,j,n-1]*fact2_jsem[n])\n",
    "                        dP_n[i,j,n+1] = (dP_n[i,j,n]*sin_ϕ[i,j]) + (P_n[i,j,n]*fact3_jsem[n])\n",
    "                        temp_rn[i,j,n] = r_p1d2[i,j]^fact5_jsem[n]\n",
    "                    end\n",
    "                    r_p4[i,j] = r_p2[i,j]^2\n",
    "                    # if j == mo\n",
    "                    #     F_J_ξ[i,j] = ((P_n[i,j,3]*fact4_jsem[2])*J2M_t)/r_p4[i,j]\n",
    "                    #     F_J_ζ[i,j] = (((-dP_n[i,j,3])*cos_ϕ[i,j])*J2M_t)/r_p4[i,j]\n",
    "                    # elseif j == ea\n",
    "                    #     F_J_ξ[i,j] = ((P_n[i,j,3]*fact4_jsem[2])*J2E_t)/r_p4[i,j]\n",
    "                    #     F_J_ζ[i,j] = (((-dP_n[i,j,3])*cos_ϕ[i,j])*J2E_t)/r_p4[i,j]\n",
    "                    # elseif j == su\n",
    "                    #     F_J_ξ[i,j] = ((P_n[i,j,3]*fact4_jsem[2])*J2S_t)/r_p4[i,j]\n",
    "                    #     F_J_ζ[i,j] = (((-dP_n[i,j,3])*cos_ϕ[i,j])*J2S_t)/r_p4[i,j]\n",
    "                    # end\n",
    "                    F_J_ξ[i,j] = ((P_n[i,j,3]*fact4_jsem[2])*J2_t[j])/r_p4[i,j]\n",
    "                    F_J_ζ[i,j] = (((-dP_n[i,j,3])*cos_ϕ[i,j])*J2_t[j])/r_p4[i,j]\n",
    "                    F_J_ξ_36[i,j] = zero_q_1\n",
    "                    F_J_ζ_36[i,j] = zero_q_1\n",
    "                    for n in 3:n1SEM[j] #min(3,n1SEM[j])\n",
    "                        temp_fjξ[i,j,n] = (((P_n[i,j,n+1]*fact4_jsem[n])*JSEM[j,n])/temp_rn[i,j,n]) + F_J_ξ_36[i,j]\n",
    "                        temp_fjζ[i,j,n] = ((((-dP_n[i,j,n+1])*cos_ϕ[i,j])*JSEM[j,n])/temp_rn[i,j,n]) + F_J_ζ_36[i,j]\n",
    "                        F_J_ξ_36[i,j] = temp_fjξ[i,j,n]\n",
    "                        F_J_ζ_36[i,j] = temp_fjζ[i,j,n]\n",
    "                    end\n",
    "\n",
    "                    # Moon: compute accelerations due to tesseral harmonics C_{nm}, S_{nm}\n",
    "                    if j == mo\n",
    "                        # Associate Legendre polynomials recursion\n",
    "                        for m in 1:n1SEM[mo]\n",
    "                            if m == 1\n",
    "                                sin_mλ[i,j,1] = sin_λ[i,j] # Moyer (1971), eq. (167)\n",
    "                                cos_mλ[i,j,1] = cos_λ[i,j] # Moyer (1971), eq. (168)\n",
    "                                secϕ_P_nm[i,j,1,1] = one_t\n",
    "                            else\n",
    "                                sin_mλ[i,j,m] = (sin_mλ[i,j,1]*cos_mλ[i,j,m-1]) + (cos_mλ[i,j,1]*sin_mλ[i,j,m-1])\n",
    "                                cos_mλ[i,j,m] = (cos_mλ[i,j,1]*cos_mλ[i,j,m-1]) - (sin_mλ[i,j,1]*sin_mλ[i,j,m-1])\n",
    "                                secϕ_P_nm[i,j,m,m] = (secϕ_P_nm[i,j,m-1,m-1]*cos_ϕ[i,j])*lnm5[m]\n",
    "                                P_nm[i,j,m,m] = secϕ_P_nm[i,j,m,m]*cos_ϕ[i,j]\n",
    "                                cosϕ_dP_nm[i,j,m,m] = (secϕ_P_nm[i,j,m,m]*sin_ϕ[i,j])*lnm3[m] #+0 (second term in Eq. 183 from Moyer, 1971, vanishes when n=m)\n",
    "                            end\n",
    "                            for n in m+1:n1SEM[mo]\n",
    "                                if n == m+1\n",
    "                                    secϕ_P_nm[i,j,n,m] = (secϕ_P_nm[i,j,n-1,m]*sin_ϕ[i,j])*lnm1[n,m]\n",
    "                                else\n",
    "                                    secϕ_P_nm[i,j,n,m] = ((secϕ_P_nm[i,j,n-1,m]*sin_ϕ[i,j])*lnm1[n,m]) + (secϕ_P_nm[i,j,n-2,m]*lnm2[n,m])\n",
    "                                end\n",
    "                                P_nm[i,j,n,m] = secϕ_P_nm[i,j,n,m]*cos_ϕ[i,j]\n",
    "                                cosϕ_dP_nm[i,j,n,m] = ((secϕ_P_nm[i,j,n,m]*sin_ϕ[i,j])*lnm3[n]) + (secϕ_P_nm[i,j,n-1,m]*lnm4[n,m])\n",
    "                            end\n",
    "                        end\n",
    "\n",
    "                        F_CS_ξ[i,j] = (((P_nm[i,j,2,1]*lnm6[2])*((C21M_t*cos_mλ[i,j,1])+(S21M_t*sin_mλ[i,j,1]))) + ((P_nm[i,j,2,2]*lnm6[2])*((C22M_t*cos_mλ[i,j,2])+(S22M_t*sin_mλ[i,j,2]))))/r_p4[i,j]\n",
    "                        F_CS_η[i,j] = (((secϕ_P_nm[i,j,2,1]*lnm7[1])*((S21M_t*cos_mλ[i,j,1])-(C21M_t*sin_mλ[i,j,1]))) + ((secϕ_P_nm[i,j,2,2]*lnm7[2])*((S22M_t*cos_mλ[i,j,2])-(C22M_t*sin_mλ[i,j,2]))))/r_p4[i,j]\n",
    "                        F_CS_ζ[i,j] = (((cosϕ_dP_nm[i,j,2,1])*((C21M_t*cos_mλ[i,j,1])+(S21M_t*sin_mλ[i,j,1]))) + ((cosϕ_dP_nm[i,j,2,2])*((C22M_t*cos_mλ[i,j,2])+(S22M_t*sin_mλ[i,j,2]))))/r_p4[i,j]\n",
    "\n",
    "                        F_CS_ξ_36[i,j] = zero_q_1\n",
    "                        F_CS_η_36[i,j] = zero_q_1\n",
    "                        F_CS_ζ_36[i,j] = zero_q_1\n",
    "                        for n in 3:n1SEM[mo]\n",
    "                            for m in 1:n\n",
    "                                temp_CS_ξ = (((P_nm[i,j,n,m]*lnm6[n])*((cos_mλ[i,j,m]*CM[n,m])+(sin_mλ[i,j,m]*SM[n,m])))/temp_rn[i,j,n]) + F_CS_ξ_36[i,j]\n",
    "                                temp_CS_η = (((secϕ_P_nm[i,j,n,m]*lnm7[m])*((cos_mλ[i,j,m]*SM[n,m])-(sin_mλ[i,j,m]*CM[n,m])))/temp_rn[i,j,n]) + F_CS_η_36[i,j]\n",
    "                                temp_CS_ζ = (((cosϕ_dP_nm[i,j,n,m])*((cos_mλ[i,j,m]*CM[n,m])+(sin_mλ[i,j,m]*SM[n,m])))/temp_rn[i,j,n]) + F_CS_ζ_36[i,j]\n",
    "                                F_CS_ξ_36[i,j] = temp_CS_ξ\n",
    "                                F_CS_η_36[i,j] = temp_CS_η\n",
    "                                F_CS_ζ_36[i,j] = temp_CS_ζ\n",
    "                            end\n",
    "                        end\n",
    "                        F_JCS_ξ[i,j] = (F_J_ξ[i,j] + F_J_ξ_36[i,j]) + (F_CS_ξ[i,j]+F_CS_ξ_36[i,j])\n",
    "                        F_JCS_η[i,j] = (F_CS_η[i,j]+F_CS_η_36[i,j])\n",
    "                        F_JCS_ζ[i,j] = (F_J_ζ[i,j] + F_J_ζ_36[i,j]) + (F_CS_ζ[i,j]+F_CS_ζ_36[i,j])\n",
    "                    else\n",
    "                        F_JCS_ξ[i,j] = (F_J_ξ[i,j] + F_J_ξ_36[i,j])\n",
    "                        F_JCS_η[i,j] = zero_q_1\n",
    "                        F_JCS_ζ[i,j] = (F_J_ζ[i,j] + F_J_ζ_36[i,j])\n",
    "                    end\n",
    "\n",
    "                    # R matrix: body-fixed -> \"primed\" ξηζ system\n",
    "                    Rb2p[i,j,1,1] = cos_ϕ[i,j]*cos_λ[i,j]\n",
    "                    Rb2p[i,j,2,1] = -sin_λ[i,j]\n",
    "                    Rb2p[i,j,3,1] = -sin_ϕ[i,j]*cos_λ[i,j]\n",
    "                    Rb2p[i,j,1,2] = cos_ϕ[i,j]*sin_λ[i,j]\n",
    "                    Rb2p[i,j,2,2] = cos_λ[i,j]\n",
    "                    Rb2p[i,j,3,2] = -sin_ϕ[i,j]*sin_λ[i,j]\n",
    "                    Rb2p[i,j,1,3] = sin_ϕ[i,j]\n",
    "                    Rb2p[i,j,2,3] = zero_q_1\n",
    "                    Rb2p[i,j,3,3] = cos_ϕ[i,j]\n",
    "                    # G matrix: space-fixed -> body-fixed -> \"primed\" ξηζ system\n",
    "                    # G_{i,j} = \\sum_k R_{i,k} M_{k,j}\n",
    "                    Gc2p[i,j,1,1] = ((Rb2p[i,j,1,1]*M_[1,1,j]) + (Rb2p[i,j,1,2]*M_[2,1,j])) + (Rb2p[i,j,1,3]*M_[3,1,j])\n",
    "                    Gc2p[i,j,2,1] = ((Rb2p[i,j,2,1]*M_[1,1,j]) + (Rb2p[i,j,2,2]*M_[2,1,j])) + (Rb2p[i,j,2,3]*M_[3,1,j])\n",
    "                    Gc2p[i,j,3,1] = ((Rb2p[i,j,3,1]*M_[1,1,j]) + (Rb2p[i,j,3,2]*M_[2,1,j])) + (Rb2p[i,j,3,3]*M_[3,1,j])\n",
    "                    Gc2p[i,j,1,2] = ((Rb2p[i,j,1,1]*M_[1,2,j]) + (Rb2p[i,j,1,2]*M_[2,2,j])) + (Rb2p[i,j,1,3]*M_[3,2,j])\n",
    "                    Gc2p[i,j,2,2] = ((Rb2p[i,j,2,1]*M_[1,2,j]) + (Rb2p[i,j,2,2]*M_[2,2,j])) + (Rb2p[i,j,2,3]*M_[3,2,j])\n",
    "                    Gc2p[i,j,3,2] = ((Rb2p[i,j,3,1]*M_[1,2,j]) + (Rb2p[i,j,3,2]*M_[2,2,j])) + (Rb2p[i,j,3,3]*M_[3,2,j])\n",
    "                    Gc2p[i,j,1,3] = ((Rb2p[i,j,1,1]*M_[1,3,j]) + (Rb2p[i,j,1,2]*M_[2,3,j])) + (Rb2p[i,j,1,3]*M_[3,3,j])\n",
    "                    Gc2p[i,j,2,3] = ((Rb2p[i,j,2,1]*M_[1,3,j]) + (Rb2p[i,j,2,2]*M_[2,3,j])) + (Rb2p[i,j,2,3]*M_[3,3,j])\n",
    "                    Gc2p[i,j,3,3] = ((Rb2p[i,j,3,1]*M_[1,3,j]) + (Rb2p[i,j,3,2]*M_[2,3,j])) + (Rb2p[i,j,3,3]*M_[3,3,j])\n",
    "                    # compute cartesian coordinates of acceleration due to body figure in inertial frame\n",
    "                    F_JCS_x[i,j] = ((F_JCS_ξ[i,j]*Gc2p[i,j,1,1]) + (F_JCS_η[i,j]*Gc2p[i,j,2,1])) + (F_JCS_ζ[i,j]*Gc2p[i,j,3,1])\n",
    "                    F_JCS_y[i,j] = ((F_JCS_ξ[i,j]*Gc2p[i,j,1,2]) + (F_JCS_η[i,j]*Gc2p[i,j,2,2])) + (F_JCS_ζ[i,j]*Gc2p[i,j,3,2])\n",
    "                    F_JCS_z[i,j] = ((F_JCS_ξ[i,j]*Gc2p[i,j,1,3]) + (F_JCS_η[i,j]*Gc2p[i,j,2,3])) + (F_JCS_ζ[i,j]*Gc2p[i,j,3,3])\n",
    "                end #if UJ_interaction[i,j]\n",
    "            end # else (i != j)\n",
    "        end #for i in 1:N_ext\n",
    "    end #for j in 1:N_ext\n",
    "\n",
    "    for j in 1:N_ext\n",
    "        for i in 1:N_ext\n",
    "            # i == j && continue\n",
    "            if i == j\n",
    "                continue\n",
    "            else\n",
    "                #Jn, Cnm, Snm accelerations, if j-th body is flattened\n",
    "                if UJ_interaction[i,j]\n",
    "                    # # add result to total acceleration upon j-th body figure due to i-th point mass\n",
    "                    temp_accX_j[i,j] = accX[j] - (μ[i]*F_JCS_x[i,j])\n",
    "                    accX[j] = temp_accX_j[i,j]\n",
    "                    temp_accY_j[i,j] = accY[j] - (μ[i]*F_JCS_y[i,j])\n",
    "                    accY[j] = temp_accY_j[i,j]\n",
    "                    temp_accZ_j[i,j] = accZ[j] - (μ[i]*F_JCS_z[i,j])\n",
    "                    accZ[j] = temp_accZ_j[i,j]\n",
    "\n",
    "                    # # reaction force on i-th body\n",
    "                    temp_accX_i[i,j] = accX[i] + (μ[j]*F_JCS_x[i,j])\n",
    "                    accX[i] = temp_accX_i[i,j]\n",
    "                    temp_accY_i[i,j] = accY[i] + (μ[j]*F_JCS_y[i,j])\n",
    "                    accY[i] = temp_accY_i[i,j]\n",
    "                    temp_accZ_i[i,j] = accZ[i] + (μ[j]*F_JCS_z[i,j])\n",
    "                    accZ[i] = temp_accZ_i[i,j]\n",
    "                end\n",
    "            end # else (i != j)\n",
    "        end\n",
    "    end\n",
    "\n",
    "    #post-Newtonian corrections to gravitational acceleration\n",
    "    #Moyer, 1971, page 7 eq. 35\n",
    "    # post-Newtonian iterative procedure setup and initialization\n",
    "    Threads.@threads for j in 1:N\n",
    "        for i in 1:N\n",
    "            # i == j && continue\n",
    "            if i == j\n",
    "                continue\n",
    "            else\n",
    "                _4ϕj[i,j] = 4newtonianNb_Potential[j]\n",
    "                ϕi_plus_4ϕj[i,j] = newtonianNb_Potential[i] + _4ϕj[i,j]\n",
    "                sj2_plus_2si2_minus_4vivj[i,j] = (v2[j] + (2v2[i])) - (4vi_dot_vj[i,j])\n",
    "                ϕs_and_vs[i,j] = sj2_plus_2si2_minus_4vivj[i,j] - ϕi_plus_4ϕj[i,j]\n",
    "                Xij_t_Ui = X[i,j]*dq[3i-2]\n",
    "                Yij_t_Vi = Y[i,j]*dq[3i-1]\n",
    "                Zij_t_Wi = Z[i,j]*dq[3i]\n",
    "                Rij_dot_Vi = ( Xij_t_Ui+Yij_t_Vi ) + Zij_t_Wi\n",
    "                # the expression below inside the (...)^2 should have a minus sign in front of the numerator,\n",
    "                # but upon squaring it is eliminated, so at the end of the day, it is irrelevant ;)\n",
    "                pn1t7 = (Rij_dot_Vi^2)/r_p2[i,j]\n",
    "                pn1t2_7 = ϕs_and_vs[i,j] - (1.5pn1t7)\n",
    "                pn1t1_7[i,j] = c_p2+pn1t2_7\n",
    "                for k in 1:postnewton_iter\n",
    "                    pn1[i,j,k] = zero_q_1\n",
    "                    X_t_pn1[i,j,k] = zero_q_1\n",
    "                    Y_t_pn1[i,j,k] = zero_q_1\n",
    "                    Z_t_pn1[i,j,k] = zero_q_1\n",
    "                    pNX_t_pn3[i,j,k] = zero_q_1\n",
    "                    pNY_t_pn3[i,j,k] = zero_q_1\n",
    "                    pNZ_t_pn3[i,j,k] = zero_q_1\n",
    "                    pNX_t_X[i,j,k] = zero_q_1\n",
    "                    pNY_t_Y[i,j,k] = zero_q_1\n",
    "                    pNZ_t_Z[i,j,k] = zero_q_1\n",
    "                end\n",
    "            end # else (i != j)\n",
    "        end\n",
    "        postNewtonX[j,1] = newtonX[j]\n",
    "        postNewtonY[j,1] = newtonY[j]\n",
    "        postNewtonZ[j,1] = newtonZ[j]\n",
    "        for k in 1:postnewton_iter\n",
    "            pntempX[j,k] = zero_q_1\n",
    "            pntempY[j,k] = zero_q_1\n",
    "            pntempZ[j,k] = zero_q_1\n",
    "        end\n",
    "    end\n",
    "\n",
    "    # post-Newtonian iterations\n",
    "    for k in 1:postnewton_iter\n",
    "        Threads.@threads for j in 1:N\n",
    "            for i in 1:N\n",
    "                # i == j && continue\n",
    "                if i == j\n",
    "                    continue\n",
    "                else\n",
    "                    pNX_t_X[i,j,k] = postNewtonX[i,k]*X[i,j]\n",
    "                    pNY_t_Y[i,j,k] = postNewtonY[i,k]*Y[i,j]\n",
    "                    pNZ_t_Z[i,j,k] = postNewtonZ[i,k]*Z[i,j]\n",
    "                    pn1[i,j,k] = (  pn1t1_7[i,j]  +  0.5*( (pNX_t_X[i,j,k]+pNY_t_Y[i,j,k]) + pNZ_t_Z[i,j,k] )  )\n",
    "\n",
    "                    X_t_pn1[i,j,k] = newton_acc_X[i,j]*pn1[i,j,k]\n",
    "                    Y_t_pn1[i,j,k] = newton_acc_Y[i,j]*pn1[i,j,k]\n",
    "                    Z_t_pn1[i,j,k] = newton_acc_Z[i,j]*pn1[i,j,k]\n",
    "\n",
    "                    pNX_t_pn3[i,j,k] = postNewtonX[i,k]*pn3[i,j]\n",
    "                    pNY_t_pn3[i,j,k] = postNewtonY[i,k]*pn3[i,j]\n",
    "                    pNZ_t_pn3[i,j,k] = postNewtonZ[i,k]*pn3[i,j]\n",
    "\n",
    "                    termpnx = ( X_t_pn1[i,j,k] + (U_t_pn2[i,j]+pNX_t_pn3[i,j,k]) )\n",
    "                    sumpnx = pntempX[j,k] + termpnx\n",
    "                    pntempX[j,k] = sumpnx\n",
    "                    termpny = ( Y_t_pn1[i,j,k] + (V_t_pn2[i,j]+pNY_t_pn3[i,j,k]) )\n",
    "                    sumpny = pntempY[j,k] + termpny\n",
    "                    pntempY[j,k] = sumpny\n",
    "                    termpnz = ( Z_t_pn1[i,j,k] + (W_t_pn2[i,j]+pNZ_t_pn3[i,j,k]) )\n",
    "                    sumpnz = pntempZ[j,k] + termpnz\n",
    "                    pntempZ[j,k] = sumpnz\n",
    "                end # else (i != j)\n",
    "            end\n",
    "            postNewtonX[j,k+1] = pntempX[j,k]*c_m2\n",
    "            postNewtonY[j,k+1] = pntempY[j,k]*c_m2\n",
    "            postNewtonZ[j,k+1] = pntempZ[j,k]*c_m2\n",
    "        end\n",
    "    end #for k in 1:postnewton_iter # (post-Newtonian iterations)\n",
    "\n",
    "    # compute acceleration of the Moon due to tides raised on Earth by the Sun and Moon\n",
    "    # time-delayed barycentric Earth position\n",
    "    X_E_τ_0 = q_del_τ_0[3ea-2]\n",
    "    Y_E_τ_0 = q_del_τ_0[3ea-1]\n",
    "    Z_E_τ_0 = q_del_τ_0[3ea  ]\n",
    "    X_E_τ_1 = q_del_τ_1[3ea-2]\n",
    "    Y_E_τ_1 = q_del_τ_1[3ea-1]\n",
    "    Z_E_τ_1 = q_del_τ_1[3ea  ]\n",
    "    X_E_τ_2 = q_del_τ_2[3ea-2]\n",
    "    Y_E_τ_2 = q_del_τ_2[3ea-1]\n",
    "    Z_E_τ_2 = q_del_τ_2[3ea  ]\n",
    "    # time-delayed geocentric Moon position\n",
    "    X_ME_τ_0 = q_del_τ_0[3mo-2] - X_E_τ_0\n",
    "    Y_ME_τ_0 = q_del_τ_0[3mo-1] - Y_E_τ_0\n",
    "    Z_ME_τ_0 = q_del_τ_0[3mo  ] - Z_E_τ_0\n",
    "    X_ME_τ_1 = q_del_τ_1[3mo-2] - X_E_τ_1\n",
    "    Y_ME_τ_1 = q_del_τ_1[3mo-1] - Y_E_τ_1\n",
    "    Z_ME_τ_1 = q_del_τ_1[3mo  ] - Z_E_τ_1\n",
    "    X_ME_τ_2 = q_del_τ_2[3mo-2] - X_E_τ_2\n",
    "    Y_ME_τ_2 = q_del_τ_2[3mo-1] - Y_E_τ_2\n",
    "    Z_ME_τ_2 = q_del_τ_2[3mo  ] - Z_E_τ_2\n",
    "    # time-delayed geocentric Sun position\n",
    "    X_SE_τ_0 = q_del_τ_0[3su-2] - X_E_τ_0\n",
    "    Y_SE_τ_0 = q_del_τ_0[3su-1] - Y_E_τ_0\n",
    "    Z_SE_τ_0 = q_del_τ_0[3su  ] - Z_E_τ_0\n",
    "    X_SE_τ_1 = q_del_τ_1[3su-2] - X_E_τ_1\n",
    "    Y_SE_τ_1 = q_del_τ_1[3su-1] - Y_E_τ_1\n",
    "    Z_SE_τ_1 = q_del_τ_1[3su  ] - Z_E_τ_1\n",
    "    X_SE_τ_2 = q_del_τ_2[3su-2] - X_E_τ_2\n",
    "    Y_SE_τ_2 = q_del_τ_2[3su-1] - Y_E_τ_2\n",
    "    Z_SE_τ_2 = q_del_τ_2[3su  ] - Z_E_τ_2\n",
    "\n",
    "    # Folkner et al. (2014), Eq. (31)\n",
    "    # note: \"starred\" vectors should be initialized to zero\n",
    "    # r-star 0, Moon\n",
    "    r_star_M_0[1] = ((R30[1,1]*X_ME_τ_0) + (R30[1,2]*Y_ME_τ_0)) + (R30[1,3]*Z_ME_τ_0)\n",
    "    r_star_M_0[2] = ((R30[2,1]*X_ME_τ_0) + (R30[2,2]*Y_ME_τ_0)) + (R30[2,3]*Z_ME_τ_0)\n",
    "    r_star_M_0[3] = ((R30[3,1]*X_ME_τ_0) + (R30[3,2]*Y_ME_τ_0)) + (R30[3,3]*Z_ME_τ_0)\n",
    "    # r-star 1, Moon\n",
    "    r_star_M_1[1] = ((R31[1,1]*X_ME_τ_1) + (R31[1,2]*Y_ME_τ_1)) + (R31[1,3]*Z_ME_τ_1)\n",
    "    r_star_M_1[2] = ((R31[2,1]*X_ME_τ_1) + (R31[2,2]*Y_ME_τ_1)) + (R31[2,3]*Z_ME_τ_1)\n",
    "    r_star_M_1[3] = ((R31[3,1]*X_ME_τ_1) + (R31[3,2]*Y_ME_τ_1)) + (R31[3,3]*Z_ME_τ_1)\n",
    "    # r-star 2, Moon\n",
    "    r_star_M_2[1] = ((R32[1,1]*X_ME_τ_2) + (R32[1,2]*Y_ME_τ_2)) + (R32[1,3]*Z_ME_τ_2)\n",
    "    r_star_M_2[2] = ((R32[2,1]*X_ME_τ_2) + (R32[2,2]*Y_ME_τ_2)) + (R32[2,3]*Z_ME_τ_2)\n",
    "    r_star_M_2[3] = ((R32[3,1]*X_ME_τ_2) + (R32[3,2]*Y_ME_τ_2)) + (R32[3,3]*Z_ME_τ_2)\n",
    "    # r-star 0, Sun\n",
    "    r_star_S_0[1] = ((R30[1,1]*X_SE_τ_0) + (R30[1,2]*Y_SE_τ_0)) + (R30[1,3]*Z_SE_τ_0)\n",
    "    r_star_S_0[2] = ((R30[2,1]*X_SE_τ_0) + (R30[2,2]*Y_SE_τ_0)) + (R30[2,3]*Z_SE_τ_0)\n",
    "    r_star_S_0[3] = ((R30[3,1]*X_SE_τ_0) + (R30[3,2]*Y_SE_τ_0)) + (R30[3,3]*Z_SE_τ_0)\n",
    "    # r-star 1, Sun\n",
    "    r_star_S_1[1] = ((R31[1,1]*X_SE_τ_1) + (R31[1,2]*Y_SE_τ_1)) + (R31[1,3]*Z_SE_τ_1)\n",
    "    r_star_S_1[2] = ((R31[2,1]*X_SE_τ_1) + (R31[2,2]*Y_SE_τ_1)) + (R31[2,3]*Z_SE_τ_1)\n",
    "    r_star_S_1[3] = ((R31[3,1]*X_SE_τ_1) + (R31[3,2]*Y_SE_τ_1)) + (R31[3,3]*Z_SE_τ_1)\n",
    "    # r-star 2, Sun\n",
    "    r_star_S_2[1] = ((R32[1,1]*X_SE_τ_2) + (R32[1,2]*Y_SE_τ_2)) + (R32[1,3]*Z_SE_τ_2)\n",
    "    r_star_S_2[2] = ((R32[2,1]*X_SE_τ_2) + (R32[2,2]*Y_SE_τ_2)) + (R32[2,3]*Z_SE_τ_2)\n",
    "    r_star_S_2[3] = ((R32[3,1]*X_SE_τ_2) + (R32[3,2]*Y_SE_τ_2)) + (R32[3,3]*Z_SE_τ_2)\n",
    "\n",
    "    # X_bf[mo,ea] are geocentric, Earth-fixed \"unprimed\" position of perturbed body (Moon) in cylindrical coordinates\n",
    "\n",
    "    ρ0s2_M = (r_star_M_0[1]^2) + (r_star_M_0[2]^2)\n",
    "    ρ0s_M = sqrt(ρ0s2_M)\n",
    "    z0s2_M = r_star_M_0[3]^2\n",
    "    r0s2_M = ρ0s2_M + z0s2_M\n",
    "    r0s_M = sqrt(r0s2_M)\n",
    "    r0s5_M = r0s_M^5\n",
    "\n",
    "    ρ0s2_S = (r_star_S_0[1]^2) + (r_star_S_0[2]^2)\n",
    "    ρ0s_S = sqrt(ρ0s2_S)\n",
    "    z0s2_S = r_star_S_0[3]^2\n",
    "    r0s2_S = ρ0s2_S + z0s2_S\n",
    "    r0s_S = sqrt(r0s2_S)\n",
    "    r0s5_S = r0s_S^5\n",
    "\n",
    "    coeff0_M = r0s2_M - 5( ( ((Z_bf[mo,ea]*r_star_M_0[3])^2) + 0.5((r_xy[mo,ea]*ρ0s_M)^2) )/r_p2[mo,ea] )\n",
    "    coeff0_S = r0s2_S - 5( ( ((Z_bf[mo,ea]*r_star_S_0[3])^2) + 0.5((r_xy[mo,ea]*ρ0s_S)^2) )/r_p2[mo,ea] )\n",
    "\n",
    "    k_20E_div_r0s5_M = k_20E/r0s5_M\n",
    "    k_20E_div_r0s5_S = k_20E/r0s5_S\n",
    "\n",
    "    aux0_M_x = k_20E_div_r0s5_M*((ρ0s2_M + coeff0_M)*X_bf[mo,ea])\n",
    "    aux0_M_y = k_20E_div_r0s5_M*((ρ0s2_M + coeff0_M)*Y_bf[mo,ea])\n",
    "    aux0_M_z = k_20E_div_r0s5_M*(((2z0s2_M) + coeff0_M)*Z_bf[mo,ea])\n",
    "    aux0_S_x = k_20E_div_r0s5_S*((ρ0s2_S + coeff0_S)*X_bf[mo,ea])\n",
    "    aux0_S_y = k_20E_div_r0s5_S*((ρ0s2_S + coeff0_S)*Y_bf[mo,ea])\n",
    "    aux0_S_z = k_20E_div_r0s5_S*(((2z0s2_S) + coeff0_S)*Z_bf[mo,ea])\n",
    "\n",
    "    ρ1s2_M = (r_star_M_1[1]^2) + (r_star_M_1[2]^2)\n",
    "    ρ1s_M = sqrt(ρ1s2_M)\n",
    "    z1s2_M = r_star_M_1[3]^2\n",
    "    r1s2_M = ρ1s2_M + z1s2_M\n",
    "    r1s_M = sqrt(r1s2_M)\n",
    "    r1s5_M = r1s_M^5\n",
    "\n",
    "    ρ1s2_S = (r_star_S_1[1]^2) + (r_star_S_1[2]^2)\n",
    "    ρ1s_S = sqrt(ρ1s2_S)\n",
    "    z1s2_S = r_star_S_1[3]^2\n",
    "    r1s2_S = ρ1s2_S + z1s2_S\n",
    "    r1s_S = sqrt(r1s2_S)\n",
    "    r1s5_S = r1s_S^5\n",
    "\n",
    "    coeff1_1_M = (X_bf[mo,ea]*r_star_M_1[1]) + (Y_bf[mo,ea]*r_star_M_1[2])\n",
    "    coeff1_1_S = (X_bf[mo,ea]*r_star_S_1[1]) + (Y_bf[mo,ea]*r_star_S_1[2])\n",
    "    coeff2_1_M = Z_bf[mo,ea]*r_star_M_1[3]\n",
    "    coeff2_1_S = Z_bf[mo,ea]*r_star_S_1[3]\n",
    "\n",
    "    coeff3_1_M = ((10coeff1_1_M)*coeff2_1_M)/r_p2[mo,ea]\n",
    "    coeff3_1_S = ((10coeff1_1_S)*coeff2_1_S)/r_p2[mo,ea]\n",
    "\n",
    "    k_21E_div_r1s5_M = k_21E/r1s5_M\n",
    "    k_21E_div_r1s5_S = k_21E/r1s5_S\n",
    "\n",
    "    aux1_M_x = k_21E_div_r1s5_M*((2coeff2_1_M*r_star_M_1[1]) - (coeff3_1_M*X_bf[mo,ea]))\n",
    "    aux1_M_y = k_21E_div_r1s5_M*((2coeff2_1_M*r_star_M_1[2]) - (coeff3_1_M*Y_bf[mo,ea]))\n",
    "    aux1_M_z = k_21E_div_r1s5_M*((2coeff1_1_M*r_star_M_1[3]) - (coeff3_1_M*Z_bf[mo,ea]))\n",
    "    aux1_S_x = k_21E_div_r1s5_S*((2coeff2_1_S*r_star_S_1[1]) - (coeff3_1_S*X_bf[mo,ea]))\n",
    "    aux1_S_y = k_21E_div_r1s5_S*((2coeff2_1_S*r_star_S_1[2]) - (coeff3_1_S*Y_bf[mo,ea]))\n",
    "    aux1_S_z = k_21E_div_r1s5_S*((2coeff1_1_S*r_star_S_1[3]) - (coeff3_1_S*Z_bf[mo,ea]))\n",
    "\n",
    "    ρ2s2_M = (r_star_M_2[1]^2) + (r_star_M_2[2]^2)\n",
    "    ρ2s_M = sqrt(ρ2s2_M)\n",
    "    z2s2_M = r_star_M_2[3]^2\n",
    "    r2s2_M = ρ2s2_M + z2s2_M\n",
    "    r2s_M = sqrt(r2s2_M)\n",
    "    r2s5_M = r2s_M^5\n",
    "\n",
    "    ρ2s2_S = (r_star_S_2[1]^2) + (r_star_S_2[2]^2)\n",
    "    ρ2s_S = sqrt(ρ2s2_S)\n",
    "    z2s2_S = r_star_S_2[3]^2\n",
    "    r2s2_S = ρ2s2_S + z2s2_S\n",
    "    r2s_S = sqrt(r2s2_S)\n",
    "    r2s5_S = r2s_S^5\n",
    "\n",
    "    coeff1_2_M = (X_bf[mo,ea]*r_star_M_2[1]) + (Y_bf[mo,ea]*r_star_M_2[2])\n",
    "    coeff1_2_S = (X_bf[mo,ea]*r_star_S_2[1]) + (Y_bf[mo,ea]*r_star_S_2[2])\n",
    "\n",
    "    coeff3_2_M = 5( (coeff1_2_M^2) - 0.5((r_xy[mo,ea]^2)*ρ2s2_M) )/r_p2[mo,ea]\n",
    "    coeff3_2_S = 5( (coeff1_2_S^2) - 0.5((r_xy[mo,ea]^2)*ρ2s2_S) )/r_p2[mo,ea]\n",
    "\n",
    "    k_22E_div_r2s5_M = k_22E/r2s5_M\n",
    "    k_22E_div_r2s5_S = k_22E/r2s5_S\n",
    "\n",
    "    aux2_M_x = k_22E_div_r2s5_M*(  (2coeff1_2_M*r_star_M_2[1])-(ρ2s2_M+coeff3_2_M)*X_bf[mo,ea]  )\n",
    "    aux2_M_y = k_22E_div_r2s5_M*(  (2coeff1_2_M*r_star_M_2[2])-(ρ2s2_M+coeff3_2_M)*Y_bf[mo,ea]  )\n",
    "    aux2_M_z = k_22E_div_r2s5_M*(  -coeff3_2_M*Z_bf[mo,ea]  )\n",
    "    aux2_S_x = k_22E_div_r2s5_S*(  (2coeff1_2_S*r_star_S_2[1])-(ρ2s2_S+coeff3_2_S)*X_bf[mo,ea]  )\n",
    "    aux2_S_y = k_22E_div_r2s5_S*(  (2coeff1_2_S*r_star_S_2[2])-(ρ2s2_S+coeff3_2_S)*Y_bf[mo,ea]  )\n",
    "    aux2_S_z = k_22E_div_r2s5_S*(  -coeff3_2_S*Z_bf[mo,ea]  )\n",
    "\n",
    "    RE_div_r_p5 = (RE_au/r_p1d2[mo,ea])^5\n",
    "    aux_tidacc = tid_num_coeff*RE_div_r_p5\n",
    "    tide_acc_coeff_M = μ[mo]*aux_tidacc\n",
    "    tide_acc_coeff_S = μ[su]*aux_tidacc\n",
    "\n",
    "    # add contributions from long-period, diurnal and semi-diurnal tides\n",
    "    tidal_bf_x = (tide_acc_coeff_M*((aux0_M_x+aux1_M_x)+aux2_M_x)) + (tide_acc_coeff_S*((aux0_S_x+aux1_S_x)+aux2_S_x))\n",
    "    tidal_bf_y = (tide_acc_coeff_M*((aux0_M_y+aux1_M_y)+aux2_M_y)) + (tide_acc_coeff_S*((aux0_S_y+aux1_S_y)+aux2_S_y))\n",
    "    tidal_bf_z = (tide_acc_coeff_M*((aux0_M_z+aux1_M_z)+aux2_M_z)) + (tide_acc_coeff_S*((aux0_S_z+aux1_S_z)+aux2_S_z))\n",
    "\n",
    "    # transform from geocentric Earth-true-equator-of-date coordinates to geocentric mean equator of J2000.0 coordinates\n",
    "    tidal_x = ((M_[1,1,ea]*tidal_bf_x)+(M_[2,1,ea]*tidal_bf_y)) + (M_[3,1,ea]*tidal_bf_z)\n",
    "    tidal_y = ((M_[1,2,ea]*tidal_bf_x)+(M_[2,2,ea]*tidal_bf_y)) + (M_[3,2,ea]*tidal_bf_z)\n",
    "    tidal_z = ((M_[1,3,ea]*tidal_bf_x)+(M_[2,3,ea]*tidal_bf_y)) + (M_[3,3,ea]*tidal_bf_z)\n",
    "\n",
    "    # add inertial accelerations from Moon's geocentric acceleration\n",
    "    accX_mo_tides = accX[mo] + tidal_x\n",
    "    accY_mo_tides = accY[mo] + tidal_y\n",
    "    accZ_mo_tides = accZ[mo] + tidal_z\n",
    "    accX[mo] = accX_mo_tides\n",
    "    accY[mo] = accY_mo_tides\n",
    "    accZ[mo] = accZ_mo_tides\n",
    "\n",
    "    #fill accelerations (post-Newtonian and extended body accelerations)\n",
    "    Threads.@threads for i in 1:N_ext\n",
    "        dq[3(N+i)-2] = postNewtonX[i,postnewton_iter+1] + accX[i]\n",
    "        dq[3(N+i)-1] = postNewtonY[i,postnewton_iter+1] + accY[i]\n",
    "        dq[3(N+i)  ] = postNewtonZ[i,postnewton_iter+1] + accZ[i]\n",
    "    end\n",
    "    Threads.@threads for i in N_ext+1:N\n",
    "        dq[3(N+i)-2] = postNewtonX[i,postnewton_iter+1]\n",
    "        dq[3(N+i)-1] = postNewtonY[i,postnewton_iter+1]\n",
    "        dq[3(N+i)  ] = postNewtonZ[i,postnewton_iter+1]\n",
    "    end\n",
    "\n",
    "    nothing\n",
    "end\n"
   ]
  },
  {
   "cell_type": "markdown",
   "metadata": {},
   "source": [
    "## Taylor1 initial conditions and test evaluation of eqs of motion"
   ]
  },
  {
   "cell_type": "markdown",
   "metadata": {},
   "source": [
    "Test the equations of motion:"
   ]
  },
  {
   "cell_type": "code",
   "execution_count": null,
   "metadata": {},
   "outputs": [],
   "source": [
    "t0"
   ]
  },
  {
   "cell_type": "code",
   "execution_count": null,
   "metadata": {},
   "outputs": [],
   "source": [
    "t = t0 + Taylor1(eltype(q0), order)\n",
    "#create q0T and fill with initial conditions\n",
    "q0T = Taylor1.(q0, t.order)\n",
    "q0T1 = Taylor1.(q0, t.order)\n",
    "q0T2 = Taylor1.(q0, t.order)\n",
    "q0T3 = Taylor1.(q0, t.order)\n",
    "q0T4 = Taylor1.(q0, t.order)\n",
    "\n",
    "#some auxiliary arrays to evaluate the equations of motion\n",
    "dq0T = similar(q0T)\n",
    "dq0T1 = similar(q0T)\n",
    "dq0T2 = similar(q0T)\n",
    "dq0T3 = similar(q0T)\n",
    "dq0T4 = similar(q0T)\n",
    "xaux = similar(q0T)\n",
    "\n",
    "@show t.order\n",
    "@show length(q0T)\n",
    "@show length(q0T) == 6N;"
   ]
  },
  {
   "cell_type": "code",
   "execution_count": null,
   "metadata": {},
   "outputs": [],
   "source": [
    "eltype(q0T)"
   ]
  },
  {
   "cell_type": "code",
   "execution_count": null,
   "metadata": {},
   "outputs": [],
   "source": [
    "typeof(t) == eltype(q0T) == eltype(dq0T)"
   ]
  },
  {
   "cell_type": "code",
   "execution_count": null,
   "metadata": {},
   "outputs": [],
   "source": []
  },
  {
   "cell_type": "code",
   "execution_count": null,
   "metadata": {},
   "outputs": [],
   "source": [
    "@time TaylorIntegration.jetcoeffs!(NBP_pN_A_J23E_J23M_J2S_threads!, t, q0T1, dq0T1, xaux, params)"
   ]
  },
  {
   "cell_type": "code",
   "execution_count": null,
   "metadata": {},
   "outputs": [],
   "source": [
    "@time TaylorIntegration.jetcoeffs!(NBP_pN_A_J23E_J23M_J2S_threads!, t, q0T1, dq0T1, xaux, params)"
   ]
  },
  {
   "cell_type": "code",
   "execution_count": null,
   "metadata": {},
   "outputs": [],
   "source": [
    "@time TaylorIntegration.jetcoeffs!(Val(NBP_pN_A_J23E_J23M_J2S_threads!), t, q0T2, dq0T2, params)"
   ]
  },
  {
   "cell_type": "code",
   "execution_count": null,
   "metadata": {},
   "outputs": [],
   "source": [
    "@time TaylorIntegration.jetcoeffs!(Val(NBP_pN_A_J23E_J23M_J2S_threads!), t, q0T2, dq0T2, params)"
   ]
  },
  {
   "cell_type": "code",
   "execution_count": null,
   "metadata": {},
   "outputs": [],
   "source": []
  },
  {
   "cell_type": "code",
   "execution_count": null,
   "metadata": {
    "scrolled": true
   },
   "outputs": [],
   "source": [
    "norm(q0T1-q0T2,Inf)"
   ]
  },
  {
   "cell_type": "code",
   "execution_count": null,
   "metadata": {},
   "outputs": [],
   "source": [
    "norm(dq0T1-dq0T2,Inf)"
   ]
  },
  {
   "cell_type": "code",
   "execution_count": null,
   "metadata": {},
   "outputs": [],
   "source": [
    "findmax(norm.(q0T1-q0T2,Inf))"
   ]
  },
  {
   "cell_type": "code",
   "execution_count": null,
   "metadata": {},
   "outputs": [],
   "source": []
  },
  {
   "cell_type": "code",
   "execution_count": null,
   "metadata": {},
   "outputs": [],
   "source": [
    "#xaux = similar(q0T);"
   ]
  },
  {
   "cell_type": "code",
   "execution_count": null,
   "metadata": {},
   "outputs": [],
   "source": [
    "# TODO: use __jetcoeffs! to select parsed/non-parsed jetcoeffs! method\n",
    "#@time TaylorIntegration.jetcoeffs!(DE430!, t, q0T7, dq0T7, xaux, params)"
   ]
  },
  {
   "cell_type": "code",
   "execution_count": null,
   "metadata": {},
   "outputs": [],
   "source": [
    "#@time TaylorIntegration.jetcoeffs!(DE430!, t, q0T7, dq0T7, xaux, params)"
   ]
  },
  {
   "cell_type": "code",
   "execution_count": null,
   "metadata": {},
   "outputs": [],
   "source": [
    "#@time TaylorIntegration.jetcoeffs!(Val(DE430_dev!), t, q0T3, dq0T3, params)\n",
    "#@time TaylorIntegration.jetcoeffs!(DE430_dev!, t, q0T3, dq0T3, xaux, params)"
   ]
  },
  {
   "cell_type": "code",
   "execution_count": null,
   "metadata": {},
   "outputs": [],
   "source": []
  },
  {
   "cell_type": "code",
   "execution_count": null,
   "metadata": {},
   "outputs": [],
   "source": [
    "@time TaylorIntegration.jetcoeffs!(Val(DE430_dev!), t, q0T3, dq0T3, params)"
   ]
  },
  {
   "cell_type": "code",
   "execution_count": null,
   "metadata": {},
   "outputs": [],
   "source": [
    "@time TaylorIntegration.jetcoeffs!(Val(DE430_dev!), t, q0T3, dq0T3, params)"
   ]
  },
  {
   "cell_type": "code",
   "execution_count": null,
   "metadata": {},
   "outputs": [],
   "source": []
  },
  {
   "cell_type": "code",
   "execution_count": null,
   "metadata": {
    "scrolled": true
   },
   "outputs": [],
   "source": [
    "norm(q0T2-q0T3,Inf)"
   ]
  },
  {
   "cell_type": "code",
   "execution_count": null,
   "metadata": {
    "scrolled": true
   },
   "outputs": [],
   "source": [
    "norm(dq0T2-dq0T3,Inf)"
   ]
  },
  {
   "cell_type": "code",
   "execution_count": null,
   "metadata": {},
   "outputs": [],
   "source": [
    "findmax(norm.(q0T2-q0T3,Inf))"
   ]
  },
  {
   "cell_type": "code",
   "execution_count": null,
   "metadata": {},
   "outputs": [],
   "source": []
  },
  {
   "cell_type": "code",
   "execution_count": null,
   "metadata": {},
   "outputs": [],
   "source": [
    "@time TaylorIntegration.jetcoeffs!(Val(DE430!), t, q0T4, dq0T4, params)"
   ]
  },
  {
   "cell_type": "code",
   "execution_count": null,
   "metadata": {},
   "outputs": [],
   "source": [
    "@time TaylorIntegration.jetcoeffs!(Val(DE430!), t, q0T4, dq0T4, params)"
   ]
  },
  {
   "cell_type": "code",
   "execution_count": null,
   "metadata": {},
   "outputs": [],
   "source": []
  },
  {
   "cell_type": "code",
   "execution_count": null,
   "metadata": {
    "scrolled": true
   },
   "outputs": [],
   "source": [
    "norm(q0T3-q0T4,Inf)"
   ]
  },
  {
   "cell_type": "code",
   "execution_count": null,
   "metadata": {
    "scrolled": true
   },
   "outputs": [],
   "source": [
    "norm(dq0T3-dq0T4,Inf)"
   ]
  },
  {
   "cell_type": "code",
   "execution_count": null,
   "metadata": {},
   "outputs": [],
   "source": [
    "findmax(norm.(q0T3-q0T4,Inf))"
   ]
  },
  {
   "cell_type": "markdown",
   "metadata": {},
   "source": [
    "## Event function for eclipses"
   ]
  },
  {
   "cell_type": "markdown",
   "metadata": {},
   "source": [
    "We find roots of the Moon-Earth-Sun phase angle via `taylorinteg`. We actually need the zeros of the derivative of the cosine of the Sun-Earth-Moon phase angle in order for an eclipse to occur (potentially; i.e., this is a necessary, but not sufficient, condition). The condition that the time derivative of `cos_phase` goes to zero only guarantees that the Sun-Earth-Moon phase angle was decreasing and starts to increase, or viceversa; i.e., the zeros of the time derivative of `cos_phase` only guarantee that a full moon or new moon occurs. In order to guarantee that an eclipse occurs, the Moon must be \"sufficiently close\" to its geocentric line of nodes when the full or new moon occurs. The condition \"sufficiently close\" is dependent upon the specific dimensions and distances between the Earth, Moon and Sun; and the details of the current implementation may be found in the _Explanatory Supplement to the Astronomical Almanac_, 1992 edition.\n",
    "\n",
    "The event function that we use to test for the occurence of eclipses will be the cosine of the angle between the geocentric positions of the Sun and Moon, with the additional condition that at this time the Moon is \"sufficiently close\" to either of its nodes (ascending/descending)."
   ]
  },
  {
   "cell_type": "code",
   "execution_count": null,
   "metadata": {},
   "outputs": [],
   "source": [
    "function taylor_roots(pol::Taylor1{T}, x0::T; niters::Int=10, ord::Int=0) where {T<:Real}\n",
    "    poln = differentiate(pol, ord)\n",
    "    dpoln = differentiate(pol, ord+1)\n",
    "    xnewton = x0\n",
    "    #@show xnewton\n",
    "    for i in 1:niters\n",
    "        xnewton -= poln(xnewton)/dpoln(xnewton)\n",
    "        #@show xnewton, pol(xnewton)\n",
    "    end\n",
    "    return xnewton\n",
    "end"
   ]
  },
  {
   "cell_type": "code",
   "execution_count": null,
   "metadata": {},
   "outputs": [],
   "source": [
    "function cos_phase(dq, q, params, t)\n",
    "    #Test if: when the full/new moon occurs, whether the Moon is \"sufficiently close\"\n",
    "    #to either one of its geocentric ascending/descending nodes.\n",
    "    xSE=q[3su-2]-q[3ea-2]\n",
    "    ySE=q[3su-1]-q[3ea-1]\n",
    "    zSE=q[3su  ]-q[3ea  ]\n",
    "    xME=q[3mo-2]-q[3ea-2]\n",
    "    yME=q[3mo-1]-q[3ea-1]\n",
    "    zME=q[3mo  ]-q[3ea  ]\n",
    "    SE2=(xSE^2+ySE^2+zSE^2)\n",
    "    ME2=(xME^2+yME^2+zME^2)\n",
    "    SE=sqrt(SE2)\n",
    "    ME=sqrt(ME2)\n",
    "    vSE_dot_vME=xSE*xME+ySE*yME+zSE*zME\n",
    "    cosMES= vSE_dot_vME/(SE*ME)\n",
    "    cosMEA=-vSE_dot_vME/(SE*ME)\n",
    "    cos_phase_angle = vSE_dot_vME/(SE*ME)\n",
    "    \n",
    "    RE=6378.1363/au # Earth radius\n",
    "    RS=696000.00/au # Sun radius\n",
    "    RM=1738.0000/au # Moon radius\n",
    "\n",
    "    tn = taylor_roots(cos_phase_angle, 0.0*one(eltype(q[1])), ord=1)\n",
    "    g_ = differentiate(cos_phase_angle, 1)(tn)\n",
    "    \n",
    "    __dt = TaylorIntegration.stepsize(q, abstol)\n",
    "\n",
    "    if abs(g_)<1e-14 && abs(tn) <= 3__dt\n",
    "        #@show t[0], tn, g_\n",
    "        #@show ME2, tn , ME2(tn), RE^2\n",
    "        SE2_=Taylor1(SE2.coeffs[1:10])\n",
    "        ME2_=Taylor1(ME2.coeffs[1:10])\n",
    "        GM = sqrt( ME2_(tn) - RE^2 )\n",
    "        TE = sqrt( SE2_(tn) - RS^2 )\n",
    "        QE = sqrt( ME2_(tn) - RM^2 )\n",
    "        \n",
    "        cosGME = (GM/sqrt(ME2_(tn)))\n",
    "        cosSET = (TE/sqrt(SE2_(tn)))\n",
    "        sinETG = (RE/TE)\n",
    "        cosMEQ = (QE/sqrt(ME2_(tn)))\n",
    "        \n",
    "        π_m = acos(cosGME)\n",
    "        π_s = asin(sinETG)\n",
    "        s_s = acos(cosSET)\n",
    "        s_m = acos(cosMEQ)\n",
    "    \n",
    "        jd0 = params[4]\n",
    "        if cos_phase_angle[2] < 0\n",
    "            #Solar eclipse scenario\n",
    "            σs = acos(cosMES(tn))\n",
    "            parSolEcl = s_s+s_m+π_m-π_s\n",
    "            annSolEcl = abs(s_s-s_m+π_m-π_s)\n",
    "            \n",
    "            if σs < parSolEcl\n",
    "                if σs < annSolEcl\n",
    "                    if s_s < s_m\n",
    "                        #@show tn\n",
    "                        abs(tn)<0.9 && println(\"SolarTotalEclipse:     \",\n",
    "                        julian2datetime(Float64(jd0+t[0]+tn)),\", abs_error=\",g_)\n",
    "                        return (true, cos_phase_angle)\n",
    "                    else\n",
    "                        #@show tn\n",
    "                        abs(tn)<0.9 && println(\"SolarAnnularEclipse:   \",\n",
    "                        julian2datetime(Float64(jd0+t[0]+tn)),\", abs_error=\",g_)\n",
    "                        return (true, cos_phase_angle)\n",
    "                    end\n",
    "                else\n",
    "                    #@show tn\n",
    "                    abs(tn)<0.9 && println(\"SolarPartialEclipse:   \", \n",
    "                    julian2datetime(Float64(jd0+t[0]+tn)),\", abs_error=\",g_)\n",
    "                    return (true, cos_phase_angle)\n",
    "                end\n",
    "            else\n",
    "                return (false, cos_phase_angle)\n",
    "            end\n",
    "        else\n",
    "            #Lunar eclipse scenario\n",
    "            σl = acos(cosMEA(tn))\n",
    "            π_1 = 0.998340π_m\n",
    "            ESAA_factor = 1.01 # changed from 1.02 on 2020-25-01 #ESAA '92 actually proposes 1.02 as factor, but then spurious (?) eclipses happen!\n",
    "            f_1 = ESAA_factor*(π_1+π_s+s_s)\n",
    "            f_2 = ESAA_factor*(π_1+π_s-s_s)\n",
    "            penLunEcl = f_1+s_m\n",
    "            parLunEcl = f_2+s_m\n",
    "            totLunEcl = f_2-s_m\n",
    "            \n",
    "            if σl < penLunEcl\n",
    "                if σl < parLunEcl\n",
    "                    if σl < totLunEcl\n",
    "                        #@show tn\n",
    "                        abs(tn)<0.9 && println(\"LunarTotalEclipse:     \",\n",
    "                        julian2datetime(Float64(jd0+t[0]+tn)),\", abs_error=\",g_)\n",
    "                        return (true, cos_phase_angle)\n",
    "                    else\n",
    "                        #@show tn\n",
    "                        abs(tn)<0.9 && println(\"LunarPartialEclipse:   \",\n",
    "                        julian2datetime(Float64(jd0+t[0]+tn)),\", abs_error=\",g_)\n",
    "                        return (true, cos_phase_angle)\n",
    "                    end\n",
    "                else\n",
    "                    #@show tn\n",
    "                    abs(tn)<0.9 && println(\"LunarPenumbralEclipse: \",\n",
    "                    julian2datetime(Float64(jd0+t[0]+tn)),\", abs_error=\",g_)\n",
    "                    return (true, cos_phase_angle)\n",
    "                end\n",
    "            else\n",
    "                return (false, cos_phase_angle)\n",
    "            end\n",
    "        end\n",
    "    else\n",
    "        return (false, cos_phase_angle)\n",
    "    end\n",
    "end"
   ]
  },
  {
   "cell_type": "markdown",
   "metadata": {},
   "source": [
    "# Integration"
   ]
  },
  {
   "cell_type": "code",
   "execution_count": null,
   "metadata": {},
   "outputs": [],
   "source": [
    "@time tv4, xv4, tvS4, xvS4, gvS4 = \n",
    "    taylorinteg(DE430_dev!, cos_phase, q0, t0, tmax, order, abstol, params_; maxsteps=2, newtoniter=10, eventorder=1);\n",
    "@time tv4, xv4, tvS4, xvS4, gvS4 = \n",
    "    taylorinteg(DE430_dev!, cos_phase, q0, t0, tmax, order, abstol, params_; maxsteps=9, newtoniter=10, eventorder=1);"
   ]
  },
  {
   "cell_type": "code",
   "execution_count": null,
   "metadata": {
    "scrolled": true
   },
   "outputs": [],
   "source": [
    "length(tvS4)"
   ]
  },
  {
   "cell_type": "markdown",
   "metadata": {},
   "source": [
    "|Date of eclipse | Time of eclipse (TDB)|\n",
    "|-|-|\n",
    "| 2015-09-28 | 02:48:49.613 |\n",
    "| 2016-03-09 | 01:58:53.24  |\n",
    "| 2016-03-23 | 11:49:05.451 |\n",
    "| 2016-09-01 | 09:08:42.583 |\n",
    "| 2016-09-16 | 18:56:01.53  |\n",
    "| 2017-02-11 | 00:45:40.174 |\n",
    "| 2017-02-26 | 14:55:09.431 |\n",
    "| 2017-08-07 | 18:22:17.984 |\n",
    "| 2017-08-21 | 18:27:16.654 |\n",
    "| 2018-01-31 | 13:31:34.204 |\n",
    "| 2018-02-15 | 20:53:09.777 |\n",
    "| 2018-07-13 | 03:02:47.574 |\n",
    "| 2018-07-27 | 20:23:37.001 |\n",
    "| 2018-08-11 | 09:48:02.699 |\n",
    "| 2019-01-06 | 01:43:25.107 |\n",
    "| 2019-01-21 | 05:14:00.736 |\n",
    "| 2019-07-02 | 19:24:40.137 |\n",
    "| 2019-07-16 | 21:32:35.889 |\n",
    "| 2019-12-26 | 05:19:33.286 |\n",
    "| 2020-01-10 | 19:11:47.471 |\n",
    "| 2020-06-05 | 19:26:49.197 |\n",
    "| 2020-06-21 | 06:41:53.938 |\n",
    "| 2020-07-05 | 04:31:48.643 |\n",
    "| 2020-11-30 | 09:44:44.858 |\n",
    "| 2020-12-14 | 16:15:14.724 |"
   ]
  },
  {
   "cell_type": "code",
   "execution_count": null,
   "metadata": {},
   "outputs": [],
   "source": []
  },
  {
   "cell_type": "code",
   "execution_count": null,
   "metadata": {},
   "outputs": [],
   "source": [
    "# till 3rd eclipse\n",
    "@time tv4, xv4, tvS4, xvS4, gvS4 = \n",
    "    taylorinteg(DE430_dev!, cos_phase, q0_, t0, tmax, order, abstol, params_; maxsteps=140, newtoniter=10, eventorder=1);\n",
    "t4 = (tv4 .- t0)/yr; tS4 = (tvS4 .- t0)/yr;"
   ]
  },
  {
   "cell_type": "code",
   "execution_count": null,
   "metadata": {},
   "outputs": [],
   "source": [
    "length(tv4)"
   ]
  },
  {
   "cell_type": "code",
   "execution_count": null,
   "metadata": {},
   "outputs": [],
   "source": [
    "findfirst(x->x>tvS4[3], tv4)"
   ]
  },
  {
   "cell_type": "code",
   "execution_count": null,
   "metadata": {
    "scrolled": true
   },
   "outputs": [],
   "source": [
    "@time tv4, xv4, tvS4, xvS4, gvS4 = \n",
    "    taylorinteg(DE430_dev!, cos_phase, q0_, t0, #=6yr=# tmax, order, abstol, params_; maxsteps=300000, newtoniter=10, eventorder=1);\n",
    "t4 = (tv4 .- t0)/yr; tS4 = (tvS4 .- t0)/yr;"
   ]
  },
  {
   "cell_type": "code",
   "execution_count": null,
   "metadata": {
    "scrolled": true
   },
   "outputs": [],
   "source": [
    "@time tv4, xv4, tvS4, xvS4, gvS4 = \n",
    "    taylorinteg(DE430_dev!, cos_phase, q0_, t0, #=6yr=# tmax, order, abstol, params_; maxsteps=300000, newtoniter=10, eventorder=1);\n",
    "t4 = (tv4 .- t0)/yr; tS4 = (tvS4 .- t0)/yr;"
   ]
  },
  {
   "cell_type": "code",
   "execution_count": null,
   "metadata": {
    "scrolled": true
   },
   "outputs": [],
   "source": [
    "@time tv4, xv4, tvS4, xvS4, gvS4 = \n",
    "    taylorinteg(DE430_dev!, cos_phase, q0_, t0, #=6yr=# tmax, order, abstol, params_; maxsteps=300000, newtoniter=10, eventorder=1);\n",
    "t4 = (tv4 .- t0)/yr; tS4 = (tvS4 .- t0)/yr;"
   ]
  },
  {
   "cell_type": "code",
   "execution_count": null,
   "metadata": {},
   "outputs": [],
   "source": [
    "minimum(diff(tv4)[1:end-1])"
   ]
  },
  {
   "cell_type": "code",
   "execution_count": null,
   "metadata": {},
   "outputs": [],
   "source": [
    "length(tvS4)"
   ]
  },
  {
   "cell_type": "raw",
   "metadata": {},
   "source": [
    "# Eqs of motion: DE430!\n",
    "# Sun, 8 planets, Moon, Pluto and 11 asteroids\n",
    "# with Taylor interpolant for DE430 lunar libration angles \n",
    "# Moon: J2(t), C22(t), C21(t), S22(t), S21(t) + up to 6th order/degree zonal/tesseral harmonics\n",
    "# up-east-north to inertial (celestial) coord transformation following Moyer (1971)\n",
    "# tidal acceleration of Moon, due to tides raised on Earth by the Moon and the Sun\n",
    "\n",
    "LunarTotalEclipse:     2015-09-28T02:48:49.614, abs_error=0.0\n",
    "LunarTotalEclipse:     2015-09-28T02:48:49.614, abs_error=0.0\n",
    "SolarTotalEclipse:     2016-03-09T01:58:53.241, abs_error=0.0\n",
    "LunarPenumbralEclipse: 2016-03-23T11:49:05.452, abs_error=0.0\n",
    "SolarAnnularEclipse:   2016-09-01T09:08:42.584, abs_error=0.0\n",
    "SolarAnnularEclipse:   2016-09-01T09:08:42.584, abs_error=0.0\n",
    "LunarPenumbralEclipse: 2016-09-16T18:56:01.531, abs_error=0.0\n",
    "LunarPenumbralEclipse: 2017-02-11T00:45:40.174, abs_error=0.0\n",
    "LunarPenumbralEclipse: 2017-02-11T00:45:40.174, abs_error=0.0\n",
    "SolarAnnularEclipse:   2017-02-26T14:55:09.432, abs_error=0.0\n",
    "SolarAnnularEclipse:   2017-02-26T14:55:09.432, abs_error=0.0\n",
    "LunarPartialEclipse:   2017-08-07T18:22:17.985, abs_error=0.0\n",
    "LunarPartialEclipse:   2017-08-07T18:22:17.985, abs_error=0.0\n",
    "SolarTotalEclipse:     2017-08-21T18:27:16.655, abs_error=0.0\n",
    "SolarTotalEclipse:     2017-08-21T18:27:16.655, abs_error=0.0\n",
    "LunarTotalEclipse:     2018-01-31T13:31:34.204, abs_error=0.0\n",
    "SolarPartialEclipse:   2018-02-15T20:53:09.777, abs_error=0.0\n",
    "SolarPartialEclipse:   2018-07-13T03:02:47.573, abs_error=0.0\n",
    "LunarTotalEclipse:     2018-07-27T20:23:37, abs_error=0.0\n",
    "SolarPartialEclipse:   2018-08-11T09:48:02.698, abs_error=0.0\n",
    "SolarPartialEclipse:   2018-08-11T09:48:02.698, abs_error=0.0\n",
    "SolarPartialEclipse:   2019-01-06T01:43:25.106, abs_error=0.0\n",
    "LunarTotalEclipse:     2019-01-21T05:14:00.734, abs_error=0.0\n",
    "SolarTotalEclipse:     2019-07-02T19:24:40.135, abs_error=-3.469446951953614e-18\n",
    "SolarTotalEclipse:     2019-07-02T19:24:40.135, abs_error=0.0\n",
    "LunarPartialEclipse:   2019-07-16T21:32:35.887, abs_error=0.0\n",
    "SolarAnnularEclipse:   2019-12-26T05:19:33.282, abs_error=0.0\n",
    "LunarPenumbralEclipse: 2020-01-10T19:11:47.467, abs_error=0.0\n",
    "LunarPenumbralEclipse: 2020-01-10T19:11:47.467, abs_error=0.0\n",
    "LunarPenumbralEclipse: 2020-06-05T19:26:49.193, abs_error=-4.336808689942018e-19\n",
    "SolarAnnularEclipse:   2020-06-21T06:41:53.934, abs_error=0.0\n",
    "SolarAnnularEclipse:   2020-06-21T06:41:53.934, abs_error=0.0\n",
    "LunarPenumbralEclipse: 2020-07-05T04:31:48.639, abs_error=0.0\n",
    "LunarPenumbralEclipse: 2020-07-05T04:31:48.639, abs_error=0.0\n",
    "LunarPenumbralEclipse: 2020-11-30T09:44:44.853, abs_error=0.0\n",
    "SolarTotalEclipse:     2020-12-14T16:15:14.719, abs_error=3.469446951953614e-18\n",
    "SolarTotalEclipse:     2020-12-14T16:15:14.719, abs_error=0.0\n",
    "119.712766 seconds (347.06 M allocations: 70.483 GiB, 11.15% gc time)"
   ]
  },
  {
   "cell_type": "code",
   "execution_count": null,
   "metadata": {},
   "outputs": [],
   "source": [
    "365.25/13.4"
   ]
  },
  {
   "cell_type": "code",
   "execution_count": null,
   "metadata": {},
   "outputs": [],
   "source": [
    "eulang_de430(eulang_de430.t0+Taylor1(30))"
   ]
  },
  {
   "cell_type": "code",
   "execution_count": null,
   "metadata": {},
   "outputs": [],
   "source": [
    "2875.0671311231217 - 2pi*div(2875.0671311231217, 2pi)"
   ]
  },
  {
   "cell_type": "code",
   "execution_count": null,
   "metadata": {},
   "outputs": [],
   "source": [
    "mod2pi.(eulang_de430(eulang_de430.t0+Taylor1(30)))"
   ]
  },
  {
   "cell_type": "code",
   "execution_count": null,
   "metadata": {},
   "outputs": [],
   "source": [
    "2pi"
   ]
  },
  {
   "cell_type": "code",
   "execution_count": null,
   "metadata": {},
   "outputs": [],
   "source": [
    "eulang_de430.t0"
   ]
  },
  {
   "cell_type": "markdown",
   "metadata": {},
   "source": [
    "# Plot difference in time of maximum elipse"
   ]
  },
  {
   "cell_type": "code",
   "execution_count": null,
   "metadata": {},
   "outputs": [],
   "source": [
    "using Plots"
   ]
  },
  {
   "cell_type": "code",
   "execution_count": null,
   "metadata": {},
   "outputs": [],
   "source": [
    "plot(2000 .+(tvS_JPL.-J2000)/yr, yr*24*3600(tS_JPL - tS4[eachindex(tS_JPL)]), label=\"PlEph.jl\", color=3, leg=:topleft)\n",
    "xlabel!(\"Year\")\n",
    "ylabel!(\"Maximum eclipse time difference (seconds)\")"
   ]
  },
  {
   "cell_type": "code",
   "execution_count": null,
   "metadata": {},
   "outputs": [],
   "source": [
    "plot(2000 .+(tvS_JPL.-J2000)/yr, yr*24*3600(tS_JPL - tS4[eachindex(tS_JPL)]), label=\"PlEph.jl\", color=3, leg=:topleft)\n",
    "xlabel!(\"Year\")\n",
    "ylabel!(\"Maximum eclipse time difference (seconds)\")"
   ]
  },
  {
   "cell_type": "code",
   "execution_count": null,
   "metadata": {},
   "outputs": [],
   "source": [
    "plot(2000 .+(tvS_JPL.-J2000)/yr, yr*24*3600(tS_JPL - tS4[eachindex(tS_JPL)]), label=\"PlEph.jl\", color=3, leg=:topleft)\n",
    "xlabel!(\"Year\")\n",
    "ylabel!(\"Maximum eclipse time difference (seconds)\")"
   ]
  },
  {
   "cell_type": "code",
   "execution_count": null,
   "metadata": {},
   "outputs": [],
   "source": []
  },
  {
   "cell_type": "code",
   "execution_count": null,
   "metadata": {},
   "outputs": [],
   "source": [
    "#for i in eachindex(tS4)\n",
    "#    @show tS_JPL[i], tS4[i]\n",
    "#end"
   ]
  },
  {
   "cell_type": "markdown",
   "metadata": {},
   "source": [
    "# Comparison vs DE430 "
   ]
  },
  {
   "cell_type": "code",
   "execution_count": null,
   "metadata": {},
   "outputs": [],
   "source": [
    "julian2datetime(jd0+tv4[59])"
   ]
  },
  {
   "cell_type": "code",
   "execution_count": null,
   "metadata": {},
   "outputs": [],
   "source": [
    "function eph_xv_et(naifid::Int, jd_tdb::Float64, observer_id::Int=10)\n",
    "    et = (jd_tdb-J2000)*daysec\n",
    "    pv = spkgeo(naifid, et, \"J2000\", observer_id)[1]\n",
    "    pv /= au\n",
    "    pv[4:6] *= daysec\n",
    "    return pv\n",
    "end"
   ]
  },
  {
   "cell_type": "code",
   "execution_count": null,
   "metadata": {},
   "outputs": [],
   "source": [
    "xv4[200, union(3*2-2:3*2,3*(N+2)-2:3*(N+2))]"
   ]
  },
  {
   "cell_type": "code",
   "execution_count": null,
   "metadata": {},
   "outputs": [],
   "source": [
    "tvX = jd0.+tv4; xvX = xv4\n",
    "\n",
    "dxsu = Array{Float64}(undef, length(tvX), 6)\n",
    "dxme = Array{Float64}(undef, length(tvX), 6)\n",
    "dxve = Array{Float64}(undef, length(tvX), 6)\n",
    "dxea = Array{Float64}(undef, length(tvX), 6)\n",
    "dxmo = Array{Float64}(undef, length(tvX), 6)\n",
    "xmo_pleph = Array{Float64}(undef, length(tvX), 6)\n",
    "xea_pleph = Array{Float64}(undef, length(tvX), 6)\n",
    "xmo_de430 = Array{Float64}(undef, length(tvX), 6)\n",
    "xea_de430 = Array{Float64}(undef, length(tvX), 6)\n",
    "dxma = Array{Float64}(undef, length(tvX), 6)\n",
    "dxju = Array{Float64}(undef, length(tvX), 6)\n",
    "dxsa = Array{Float64}(undef, length(tvX), 6)\n",
    "dxne = Array{Float64}(undef, length(tvX), 6)\n",
    "dxce = Array{Float64}(undef, length(tvX), 6)\n",
    "dxpl = Array{Float64}(undef, length(tvX), 6)\n",
    "for i in eachindex(tvX)\n",
    "    xvXS = xvX[i, union(3*1-2:3*1,3*(N+1)-2:3*(N+1))]\n",
    "    dxsu[i,:] = (eph_xv_et( 10, tvX[i],0) .- xvXS)*(1e3au)\n",
    "    dxme[i,:] = (eph_xv_et(199, tvX[i]) .- (xvX[i, union(3* 2-2:3* 2,3*(N+ 2)-2:3*(N+ 2))]-xvXS))*(1e3au)\n",
    "    dxve[i,:] = (eph_xv_et(299, tvX[i]) .- (xvX[i, union(3* 3-2:3* 3,3*(N+ 3)-2:3*(N+ 3))]-xvXS))*(1e3au)\n",
    "    xea_pleph[i,:] = (xvX[i, union(3* 4-2:3* 4,3*(N+ 4)-2:3*(N+ 4))]-xvXS)*(1e3au)\n",
    "    xea_de430[i,:] = eph_xv_et(399, tvX[i])*(1e3au)\n",
    "    dxea[i,:] = xea_de430[i,:] .- xea_pleph[i,:]\n",
    "    xmo_pleph[i,:] = (xvX[i, union(3* 5-2:3* 5,3*(N+ 5)-2:3*(N+ 5))]-xvXS)*(1e3au)\n",
    "    xmo_de430[i,:] = eph_xv_et(301, tvX[i])*(1e3au)\n",
    "    dxmo[i,:] = xmo_de430[i,:] .- xmo_pleph[i,:]\n",
    "    dxma[i,:] = (eph_xv_et(  4, tvX[i]) .- (xvX[i, union(3* 6-2:3* 6,3*(N+ 6)-2:3*(N+ 6))]-xvXS))*(1e3au)\n",
    "    dxju[i,:] = (eph_xv_et(  5, tvX[i]) .- (xvX[i, union(3* 7-2:3* 7,3*(N+ 7)-2:3*(N+ 7))]-xvXS))*(1e3au)\n",
    "    dxsa[i,:] = (eph_xv_et(  6, tvX[i]) .- (xvX[i, union(3* 8-2:3* 8,3*(N+ 8)-2:3*(N+ 8))]-xvXS))*(1e3au)\n",
    "    dxne[i,:] = (eph_xv_et(  8, tvX[i]) .- (xvX[i, union(3*10-2:3*10,3*(N+10)-2:3*(N+10))]-xvXS))*(1e3au)\n",
    "    dxpl[i,:] = (eph_xv_et(  9, tvX[i]) .- (xvX[i, union(3*11-2:3*11,3*(N+11)-2:3*(N+11))]-xvXS))*(1e3au)\n",
    "    dxce[i,:] = (eph_xv_et(2000001, tvX[i]).-(xvX[i, union(3*12-2:3*12,3*(N+12)-2:3*(N+12))]-xvXS))*(1e3au)\n",
    "end\n",
    "dxme_de430 = xmo_de430 - xea_de430\n",
    "dxme_pleph = xmo_pleph - xea_pleph\n",
    ";"
   ]
  },
  {
   "cell_type": "code",
   "execution_count": null,
   "metadata": {},
   "outputs": [],
   "source": [
    "eph_xv_et(10, tvX[1])"
   ]
  },
  {
   "cell_type": "code",
   "execution_count": null,
   "metadata": {},
   "outputs": [],
   "source": [
    "#using Plots\n",
    "#gr()"
   ]
  },
  {
   "cell_type": "code",
   "execution_count": null,
   "metadata": {},
   "outputs": [],
   "source": []
  },
  {
   "cell_type": "code",
   "execution_count": null,
   "metadata": {},
   "outputs": [],
   "source": [
    "tvX_yrs = 2000 .+ (tvX.-J2000)/yr;"
   ]
  },
  {
   "cell_type": "code",
   "execution_count": null,
   "metadata": {},
   "outputs": [],
   "source": [
    "xlabel_str = \"Year\""
   ]
  },
  {
   "cell_type": "code",
   "execution_count": null,
   "metadata": {},
   "outputs": [],
   "source": [
    "plot( tvX_yrs, dxsu[:,1])\n",
    "plot!(tvX_yrs, dxsu[:,2])\n",
    "plot!(tvX_yrs, dxsu[:,3])\n",
    "title!(\"Sun: diff. in barycentric position vs DE430\")\n",
    "xlabel!(xlabel_str)"
   ]
  },
  {
   "cell_type": "code",
   "execution_count": null,
   "metadata": {},
   "outputs": [],
   "source": [
    "#gr()"
   ]
  },
  {
   "cell_type": "code",
   "execution_count": null,
   "metadata": {},
   "outputs": [],
   "source": [
    "plot( tvX_yrs, dxme[:,1], label=\"x\")\n",
    "plot!(tvX_yrs, dxme[:,2], label=\"y\")\n",
    "plot!(tvX_yrs, dxme[:,3], label=\"z\")\n",
    "title!(\"Mercury: diff. in heliocentric position vs DE430\")\n",
    "xlabel!(xlabel_str)"
   ]
  },
  {
   "cell_type": "code",
   "execution_count": null,
   "metadata": {},
   "outputs": [],
   "source": [
    "plot( tvX_yrs, dxve[:,1], label=\"x\")\n",
    "plot!(tvX_yrs, dxve[:,2], label=\"y\")\n",
    "plot!(tvX_yrs, dxve[:,3], label=\"z\")\n",
    "title!(\"Venus: diff. in heliocentric position vs DE430\")\n",
    "xlabel!(xlabel_str)"
   ]
  },
  {
   "cell_type": "code",
   "execution_count": null,
   "metadata": {},
   "outputs": [],
   "source": [
    "#plotly()"
   ]
  },
  {
   "cell_type": "code",
   "execution_count": null,
   "metadata": {},
   "outputs": [],
   "source": [
    "plot( tvX_yrs, dxea[:,1], label=\"x\")\n",
    "plot!(tvX_yrs, dxea[:,2], label=\"y\")\n",
    "plot!(tvX_yrs, dxea[:,3], label=\"z\")\n",
    "title!(\"Earth: diff. in heliocentric position vs DE430\")\n",
    "xlabel!(xlabel_str)\n",
    "#ylims!(-10,10)\n",
    "#xlims!(0,0.3)"
   ]
  },
  {
   "cell_type": "code",
   "execution_count": null,
   "metadata": {},
   "outputs": [],
   "source": [
    "#plotly()"
   ]
  },
  {
   "cell_type": "code",
   "execution_count": null,
   "metadata": {},
   "outputs": [],
   "source": [
    "plot( tvX_yrs, dxmo[:,1], label=\"x\", leg=:bottomleft)\n",
    "plot!(tvX_yrs, dxmo[:,2], label=\"y\")\n",
    "plot!(tvX_yrs, dxmo[:,3], label=\"z\")\n",
    "title!(\"Moon: diff. in heliocentric position vs DE430\")\n",
    "xlabel!(xlabel_str)"
   ]
  },
  {
   "cell_type": "code",
   "execution_count": null,
   "metadata": {},
   "outputs": [],
   "source": [
    "plot( tvX_yrs, dxmo[:,1]-dxea[:,1], label=\"x\", leg=:bottomleft)\n",
    "plot!(tvX_yrs, dxmo[:,2]-dxea[:,2], label=\"y\")\n",
    "plot!(tvX_yrs, dxmo[:,3]-dxea[:,3], label=\"z\")\n",
    "title!(\"Diff. in Moon geocentric position vs DE430\")\n",
    "xlabel!(xlabel_str)\n",
    "ylabel!(\"Diff. in Moon geocentric position [m]\")\n",
    "ylims!(-11,9)\n",
    "yticks!(-10:5:10)"
   ]
  },
  {
   "cell_type": "code",
   "execution_count": null,
   "metadata": {},
   "outputs": [],
   "source": [
    "dxem_pleph = (xmo_pleph .- xea_pleph)/(1e3au)\n",
    "dxem_de430 = (xmo_de430 .- xea_de430)/(1e3au)\n",
    "# a_M: Moon semimajor axis\n",
    "a_M_pleph = semimajoraxis.(dxem_pleph[:,1], dxem_pleph[:,2], dxem_pleph[:,3], dxem_pleph[:,4], dxem_pleph[:,5], dxem_pleph[:,6], μ[ea], μ[mo])\n",
    "a_M_de430 = semimajoraxis.(dxem_de430[:,1], dxem_de430[:,2], dxem_de430[:,3], dxem_de430[:,4], dxem_de430[:,5], dxem_de430[:,6], μ[ea], μ[mo]);\n",
    "diff_a_M = (1e3au)*(a_M_de430.-a_M_pleph);"
   ]
  },
  {
   "cell_type": "code",
   "execution_count": null,
   "metadata": {},
   "outputs": [],
   "source": [
    "drem_pleph = (1e3au)*sqrt.(dxem_pleph[:,1].^2  + dxem_pleph[:,2].^2  + dxem_pleph[:,3].^2)\n",
    "drem_de430 = (1e3au)*sqrt.(dxem_de430[:,1].^2  + dxem_de430[:,2].^2  + dxem_de430[:,3].^2);"
   ]
  },
  {
   "cell_type": "code",
   "execution_count": null,
   "metadata": {},
   "outputs": [],
   "source": [
    "plot(tvX_yrs, drem_de430-drem_pleph, leg=false)\n",
    "title!(\"Earth-Moon distance: PlEph.jl vs DE430\")\n",
    "ylabel!(\"d(E,M)(DE430)-d(E,M)(PlEph.jl) [m]\")\n",
    "xlabel!(xlabel_str)\n",
    "ylims!(-0.7,0.7)\n",
    "yticks!(-0.7:0.1:0.7)"
   ]
  },
  {
   "cell_type": "code",
   "execution_count": null,
   "metadata": {},
   "outputs": [],
   "source": [
    "#plotly()"
   ]
  },
  {
   "cell_type": "code",
   "execution_count": null,
   "metadata": {},
   "outputs": [],
   "source": [
    "#gr()"
   ]
  },
  {
   "cell_type": "code",
   "execution_count": null,
   "metadata": {},
   "outputs": [],
   "source": [
    "plot( tvX_yrs, diff_a_M, label=\"aM(DE430)-aM(PlEph.jl)\", leg=:bottomleft)\n",
    "plot!(tvX_yrs, 38.08e-3*(tvX.-tvX[1])/yr, label=\"mean( aM_tidal(t) )\")\n",
    "title!(\"Moon semimajor axis: PlEph.jl diff. vs DE430\")\n",
    "ylabel!(\"semimajor axis, a [m]\")\n",
    "xlabel!(xlabel_str)"
   ]
  },
  {
   "cell_type": "code",
   "execution_count": null,
   "metadata": {},
   "outputs": [],
   "source": [
    "using Statistics: mean"
   ]
  },
  {
   "cell_type": "code",
   "execution_count": null,
   "metadata": {},
   "outputs": [],
   "source": [
    "lma = 100\n",
    "diff_a_M_ma = map(x->mean(diff_a_M[x:x+lma]), 1:(length(diff_a_M)-lma)); # moving average"
   ]
  },
  {
   "cell_type": "code",
   "execution_count": null,
   "metadata": {
    "hide_input": false
   },
   "outputs": [],
   "source": [
    "plot(tvX_yrs[1:length(diff_a_M_ma)], diff_a_M_ma.-diff_a_M_ma[1])\n",
    "#plot!(tvX_yrs, 38.08e-3*(tvX_yrs.-tvX_yrs[1]), label=\"mean( aM_tidal(t) )\")\n",
    "xlabel!(xlabel_str)"
   ]
  },
  {
   "cell_type": "code",
   "execution_count": null,
   "metadata": {},
   "outputs": [],
   "source": [
    "plot( tvX_yrs, dxma[:,1], label=\"x\")\n",
    "plot!(tvX_yrs, dxma[:,2], label=\"y\")\n",
    "plot!(tvX_yrs, dxma[:,3], label=\"z\")\n",
    "title!(\"Mars: diff. in heliocentric position vs DE430\")\n",
    "xlabel!(xlabel_str)"
   ]
  },
  {
   "cell_type": "code",
   "execution_count": null,
   "metadata": {},
   "outputs": [],
   "source": [
    "plot( tvX_yrs, dxce[:,1], label=\"x\")\n",
    "plot!(tvX_yrs, dxce[:,2], label=\"y\")\n",
    "plot!(tvX_yrs, dxce[:,3], label=\"z\")\n",
    "title!(\"Ceres: diff. in heliocentric position vs DE430\")\n",
    "xlabel!(xlabel_str)\n",
    "#xlims!(0,0.025)\n",
    "#ylims!(-0.5,0.5)"
   ]
  },
  {
   "cell_type": "code",
   "execution_count": null,
   "metadata": {},
   "outputs": [],
   "source": [
    "plot( tvX_yrs, dxce[:,1], label=\"x\")\n",
    "plot!(tvX_yrs, dxce[:,2], label=\"y\")\n",
    "plot!(tvX_yrs, dxce[:,3], label=\"z\")\n",
    "title!(\"Ceres: diff. in heliocentric position vs DE430\")\n",
    "xlabel!(xlabel_str)\n",
    "#xlims!(0,0.025)\n",
    "#ylims!(-0.5,0.5)"
   ]
  },
  {
   "cell_type": "code",
   "execution_count": null,
   "metadata": {},
   "outputs": [],
   "source": [
    "plot( tvX_yrs, dxju[:,1], label=\"x\")\n",
    "plot!(tvX_yrs, dxju[:,2], label=\"y\")\n",
    "plot!(tvX_yrs, dxju[:,3], label=\"z\")\n",
    "title!(\"Jupiter: diff. in heliocentric position vs DE430\")\n",
    "xlabel!(xlabel_str)"
   ]
  },
  {
   "cell_type": "code",
   "execution_count": null,
   "metadata": {},
   "outputs": [],
   "source": [
    "plot( tvX_yrs, dxsa[:,1], label=\"x\")\n",
    "plot!(tvX_yrs, dxsa[:,2], label=\"y\")\n",
    "plot!(tvX_yrs, dxsa[:,3], label=\"z\")\n",
    "title!(\"Saturn: diff. in heliocentric position vs DE430\")\n",
    "xlabel!(xlabel_str)"
   ]
  },
  {
   "cell_type": "code",
   "execution_count": null,
   "metadata": {},
   "outputs": [],
   "source": [
    "plot( tvX_yrs, dxne[:,1], label=\"x\")\n",
    "plot!(tvX_yrs, dxne[:,2], label=\"y\")\n",
    "plot!(tvX_yrs, dxne[:,3], label=\"z\")\n",
    "title!(\"Neptune: diff. in heliocentric position vs DE430\")\n",
    "xlabel!(xlabel_str)"
   ]
  },
  {
   "cell_type": "code",
   "execution_count": null,
   "metadata": {},
   "outputs": [],
   "source": [
    "plot( tvX_yrs, dxpl[:,1], label=\"x\")\n",
    "plot!(tvX_yrs, dxpl[:,2], label=\"y\")\n",
    "plot!(tvX_yrs, dxpl[:,3], label=\"z\")\n",
    "title!(\"Pluto: diff. in heliocentric position vs DE430\")\n",
    "xlabel!(xlabel_str)\n",
    "#xticks!(tvX[1]:365.25:tvX[end])"
   ]
  },
  {
   "cell_type": "markdown",
   "metadata": {},
   "source": [
    "## Maximum eclipse times from DE430 ephemeris"
   ]
  },
  {
   "cell_type": "code",
   "execution_count": null,
   "metadata": {},
   "outputs": [],
   "source": [
    "using Plots"
   ]
  },
  {
   "cell_type": "code",
   "execution_count": null,
   "metadata": {},
   "outputs": [],
   "source": [
    "plotly()"
   ]
  },
  {
   "cell_type": "code",
   "execution_count": null,
   "metadata": {},
   "outputs": [],
   "source": [
    "tvS4 = tvS_JPL;"
   ]
  },
  {
   "cell_type": "code",
   "execution_count": null,
   "metadata": {},
   "outputs": [],
   "source": [
    "jd0 = datetime2julian(DateTime(2015,9,20))"
   ]
  },
  {
   "cell_type": "code",
   "execution_count": null,
   "metadata": {},
   "outputs": [],
   "source": [
    "tvS4_yrs = 2000 .+ (tvS4.+(jd0-J2000))/yr;"
   ]
  },
  {
   "cell_type": "code",
   "execution_count": null,
   "metadata": {},
   "outputs": [],
   "source": [
    "em(et) = spkgeo(301, et, \"J2000\", 399)[1]\n",
    "es(et) = spkgeo(10, et, \"J2000\", 399)[1]"
   ]
  },
  {
   "cell_type": "code",
   "execution_count": null,
   "metadata": {},
   "outputs": [],
   "source": [
    "using TaylorSeries"
   ]
  },
  {
   "cell_type": "code",
   "execution_count": null,
   "metadata": {},
   "outputs": [],
   "source": [
    "ρdot_mes(et) = begin\n",
    "    em_et = em(et)\n",
    "    es_et = es(et)\n",
    "    \n",
    "    t = Taylor1(2)\n",
    "\n",
    "    xSE=es_et[1] + t*es_et[4]\n",
    "    ySE=es_et[2] + t*es_et[5]\n",
    "    zSE=es_et[3] + t*es_et[6]\n",
    "    xME=em_et[1] + t*em_et[4]\n",
    "    yME=em_et[2] + t*em_et[5]\n",
    "    zME=em_et[3] + t*em_et[6]\n",
    "    SE = sqrt(xSE^2 + ySE^2 + zSE^2)\n",
    "    ME = sqrt(xME^2 + yME^2 + zME^2)\n",
    "    cos_phase_angle = (xSE*xME+ySE*yME+zSE*zME)/(SE*ME)\n",
    "    return cos_phase_angle[1]\n",
    "end"
   ]
  },
  {
   "cell_type": "code",
   "execution_count": null,
   "metadata": {},
   "outputs": [],
   "source": [
    "etS4 = (tvS4 .- J2000)*daysec;"
   ]
  },
  {
   "cell_type": "code",
   "execution_count": null,
   "metadata": {},
   "outputs": [],
   "source": [
    "indec = 25"
   ]
  },
  {
   "cell_type": "code",
   "execution_count": null,
   "metadata": {},
   "outputs": [],
   "source": [
    "et0 = etS4[indec]-0.1\n",
    "etf = etS4[indec]+0.1\n",
    "etv = et0:0.00001:etf\n",
    "@show length(etv)\n",
    "et0 < etS4[indec] < etf"
   ]
  },
  {
   "cell_type": "code",
   "execution_count": null,
   "metadata": {},
   "outputs": [],
   "source": [
    "ρdot_mes_et = ρdot_mes.(etv);"
   ]
  },
  {
   "cell_type": "code",
   "execution_count": null,
   "metadata": {},
   "outputs": [],
   "source": [
    "indW = findfirst(x->x>etS4[indec], etv)\n",
    "inds_ = (indW-100≤0 ? 1 : indW-100):(indW+200)"
   ]
  },
  {
   "cell_type": "code",
   "execution_count": null,
   "metadata": {},
   "outputs": [],
   "source": [
    "plot(etv[inds_].-etS4[indec], ρdot_mes_et[inds_], m=:circle)\n",
    "#scatter!(etS4, zero(etS4))"
   ]
  },
  {
   "cell_type": "code",
   "execution_count": null,
   "metadata": {},
   "outputs": [],
   "source": [
    "tvS4.-J2000"
   ]
  },
  {
   "cell_type": "code",
   "execution_count": null,
   "metadata": {},
   "outputs": [],
   "source": []
  },
  {
   "cell_type": "markdown",
   "metadata": {},
   "source": [
    "## Benchmarks"
   ]
  },
  {
   "cell_type": "raw",
   "metadata": {},
   "source": [
    "using BenchmarkTools"
   ]
  },
  {
   "cell_type": "raw",
   "metadata": {},
   "source": [
    "@benchmark tv, xv = taylorinteg(NBP!, q0, t0, tmax, order, abstol; maxsteps=100)"
   ]
  },
  {
   "cell_type": "raw",
   "metadata": {},
   "source": [
    "nallocs = [9.36, 18.69, 46.69, 93.35, 186.68, 466.64, 933.25, 1.82*1024, 4.56*1024, 9.11*1024]\n",
    "nsteps = [1,2,5,10,20,50,100,200,500,1000];"
   ]
  },
  {
   "cell_type": "raw",
   "metadata": {},
   "source": [
    "plot(nsteps,nallocs)\n",
    "scatter!(nsteps,nallocs)\n",
    "ylabel!(\"Total allocated memory (MiB)\")\n",
    "xlabel!(\"number of `taylorinteg` steps\")\n",
    "title!(\"Memory use vs steps\")"
   ]
  },
  {
   "cell_type": "raw",
   "metadata": {},
   "source": [
    "plot(nsteps,nallocs, xscale=:log10, yscale=:log10)\n",
    "scatter!(nsteps,nallocs)\n",
    "ylabel!(\"Total allocated memory (MiB)\")\n",
    "xlabel!(\"number of `taylorinteg` steps\")\n",
    "title!(\"Memory use vs steps (log10-log10)\")"
   ]
  },
  {
   "cell_type": "code",
   "execution_count": null,
   "metadata": {},
   "outputs": [],
   "source": []
  }
 ],
 "metadata": {
  "@webio": {
   "lastCommId": null,
   "lastKernelId": null
  },
  "kernelspec": {
   "display_name": "Julia-4-threads 1.5.3",
   "language": "julia",
   "name": "julia-4-threads-1.5"
  },
  "language_info": {
   "file_extension": ".jl",
   "mimetype": "application/julia",
   "name": "julia",
   "version": "1.5.3"
  }
 },
 "nbformat": 4,
 "nbformat_minor": 4
}
